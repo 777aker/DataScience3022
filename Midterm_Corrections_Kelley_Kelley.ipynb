{
 "cells": [
  {
   "cell_type": "markdown",
   "metadata": {},
   "source": [
    "<a id='top'></a>\n",
    "\n",
    "# Midterm Exam Corrections\n",
    "***\n",
    "\n",
    "**Name**: \n",
    "\n",
    "***\n",
    "\n",
    "This optional assignment is due on Canvas by **MIDNIGHT on Friday November 1**. Your solutions to all questions should be done in Markdown directly below the associated question.  Any computational work should be minimal, and can be done in code cells adjacent to your Markdown solutions.  You may discuss problems with your peers but any write-up and exposition must be your own. A complete and correct submission will receive 6 points back on the midterm.\n",
    "\n",
    "\n",
    "You **must show all work and justify your answers to receive credit**. Sparse or nonexistent work will receive sparse or nonexistent credit. \n",
    "\n",
    "These corrections are not multiple choice.  You must solve the problems to their exact solutions and show your work."
   ]
  },
  {
   "cell_type": "markdown",
   "metadata": {},
   "source": [
    "## Problem 1 (Exam # 4)\n",
    "\n",
    "Use the following information for Problems 1 and 2, which may build off of each other.\n",
    "\n",
    "Beowolf and Hrothgar are defending their kingdom from a monster. As Beowolf and Hrothgar fight the terrible monster, they use two tactics: they either throw boiling oil or they launch a catapult. These are their only two fighting tactics. Suppose the probability that Beowolf is throwing boiling oil at the monster is 0.4 while the probability that Hrothgar is throwing boiling oil at the monster is 0.7.  Both Beowolf and Hrothgar throw boiling oil at the monster with probability 0.3.\n",
    "\n",
    "Beowulf is launching a catapult. What is the probability that Hrothgar is launching a catapult?"
   ]
  },
  {
   "cell_type": "markdown",
   "metadata": {},
   "source": [
    "$B_o$ = Beowolf throwing oil, $H_o$ = Hrothgar throwing oil, $H_c$ = Hrothgar using catapult, $B_c$ = Beowolf using catapult <br>\n",
    "$P(B_o)=0.4 \\\\\n",
    "P(H_o)=0.7\\\\\n",
    "P(B_o\\cap H_o)=0.3\\\\\n",
    "P(H_c | B_c) = \\frac{P(H_c\\cap B_c)}{P(B_c)}\\\\\n",
    "P(B_c)=1-P(B_c)^c=1-P(B_o)\\\\\n",
    "P(H_c\\cap B_c)=1-P(H_c\\cap B_c)^c=1-P(H_o\\cup B_o)\\\\\n",
    "P(H_o\\cup B_o)=P(H_o)+P(B_o)-P(H_o\\cap B_o)\\\\\n",
    "P(H_c|B_c)=\\frac{1-P(H_o)-P(B_o)+P(H_o\\cap B_o)}{1-P(B_o)}=\\frac{1-0.7-0.4+0.3}{1-0.4}=\\frac{0.2}{0.6}=\\frac{1}{3}$"
   ]
  },
  {
   "cell_type": "markdown",
   "metadata": {},
   "source": [
    "## Problem 2 (Exam # 5)\n",
    "\n",
    "What is the probability that Beowulf and Hrathgar are using the same tactic at the same time?"
   ]
  },
  {
   "cell_type": "markdown",
   "metadata": {},
   "source": [
    "$P((H_c\\cap B_c)\\cup (H_o\\cap B_o))=P(H_c\\cap B_c)+P(H_o\\cap B_o)\\\\\n",
    "P(H_c\\cap B_c) = P(H_c|B_c)P(B_c)\\\\\n",
    "P(B_c)=1-P(B_o)\\\\\n",
    "P((H_c\\cap B_c)\\cup (H_o\\cap B+o))=P(H_c|B_c)(1-P(B_o))\\\\\n",
    "P((H_c\\cap B_c)\\cup (H_o\\cap B+o))=\\frac{1}{3}(1-0.4)=\\frac{1}{3}(0.6)=\\frac{(0.6)}{3}=0.2$\n"
   ]
  },
  {
   "cell_type": "markdown",
   "metadata": {},
   "source": [
    "## Problem 3 (Exam # 6)\n",
    "\n",
    "Suppose you are playing pool with your friends. Instead of simply keeping score, your friends are tracking the number of turns it takes you to sink 5 balls. Suppose that you can sink a pool ball into its pocket with probability 0.4. What is the probability that it takes you more than 8 turns to sink 5 pool balls."
   ]
  },
  {
   "cell_type": "markdown",
   "metadata": {},
   "source": [
    "Probability it takes you more than 8 shots is 1 - probability it takes you 8 or less. P(8 or less) = probability you get 5 on fifth, five on sixth, five on seventh, five on eigth = (4 choose 4)$(0.5)^5(0.6)^0$ + (5 choose 4)$(0.4)^5(0.6)^1$ so on, so probability it takes you more than 8 is $1-\\sum_{i=5}^8 (i-4\\text{ choose }4)(0.4)^5(0.6)^{i-1}$"
   ]
  },
  {
   "cell_type": "markdown",
   "metadata": {},
   "source": [
    "## Problem 4 (Exam # 10)\n",
    "\n",
    "The average high temperature for Boulder, CO on October 31 is $58^\\circ$ Fahrenheit with a standard deviation of 11 degrees.  If the temperature $C$ in Celsius is calculated from the temperature in Fahrenheit $F$ by \n",
    "$C=\\frac{5}{9}(F-32),$ what is the $\\textit{variance}$ of the temperature in Boulder on October 31 in degrees Celsius?"
   ]
  },
  {
   "cell_type": "markdown",
   "metadata": {},
   "source": [
    "$\n",
    "Var[\\frac{5}{9}x -32]\\\\\n",
    "\\frac{5^2}{9^2}Var[X]\\\\\n",
    "\\frac{5^2}{9^2}Std[X]^2\\\\\n",
    "\\frac{5^2}{9^2}11^2\n",
    "$"
   ]
  },
  {
   "cell_type": "markdown",
   "metadata": {},
   "source": [
    "## Problem 5 (Exam # 12)\n",
    "\n",
    "Let $f(x) = kx^3+x-1$ for $0 \\leq x \\leq 1$, and $f(x)=0$ for $x \\notin [0,1]$, where $k$ is some unknown constant. What value of $k$ will make $f$ a valid probability density function?"
   ]
  },
  {
   "cell_type": "markdown",
   "metadata": {},
   "source": [
    "$\n",
    "\\int_0^1kx^3+x-1=1\\\\\n",
    "\\frac{kx^4}{4}+\\frac{x^2}{2}-x|_0^1=1\\\\\n",
    "\\frac{k}{4}+\\frac{1}{2}-1=1\\\\\n",
    "\\frac{k}{4}=\\frac{3}{2}\\\\\n",
    "k=6$<br>\n",
    "Check if works for x [0,1], plug 0 in, get P(0) = -1, negative probability so invalid pdf. There is no k that can make this a valid pdf. "
   ]
  },
  {
   "cell_type": "markdown",
   "metadata": {},
   "source": [
    "## Problem 6 (Exam # 13)\n",
    "\n",
    "Suppose we know that the general antiderivative of a function $g(x)$ is $\\int g(x) \\, dx = \\frac{x^3}{7} +C$.  Then from $[1,2]$, what is the cumulative density function of a random variable with pdf:\n",
    "\n",
    "$$f(x)=\\begin{cases}\n",
    "g(x) & 1<x \\leq 2\\\\\n",
    "0 & else\n",
    "\\end{cases}$$"
   ]
  },
  {
   "cell_type": "markdown",
   "metadata": {},
   "source": [
    "cdf = <br>\n",
    "$\\frac{t^3}{7} + C |_1^x\\\\\n",
    "= \\frac{x^3}{7}-\\frac{1}{7}\\\\\n",
    "= \\frac{x^3-1}{7}$"
   ]
  }
 ],
 "metadata": {
  "kernelspec": {
   "display_name": "Python 3",
   "language": "python",
   "name": "python3"
  },
  "language_info": {
   "codemirror_mode": {
    "name": "ipython",
    "version": 3
   },
   "file_extension": ".py",
   "mimetype": "text/x-python",
   "name": "python",
   "nbconvert_exporter": "python",
   "pygments_lexer": "ipython3",
   "version": "3.7.3"
  }
 },
 "nbformat": 4,
 "nbformat_minor": 2
}
