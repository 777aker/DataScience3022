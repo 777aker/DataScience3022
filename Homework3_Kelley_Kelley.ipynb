{
 "cells": [
  {
   "cell_type": "markdown",
   "metadata": {},
   "source": [
    "<a id='top'></a>\n",
    "\n",
    "# Homework 3: Normals and More Simulation\n",
    "***\n",
    "\n",
    "**Name**: \n",
    "\n",
    "***\n",
    "\n",
    "This assignment is due on Canvas by **MIDNIGHT on Friday October 25**. Your solutions to theoretical questions should be done in Markdown directly below the associated question.  Your solutions to computational questions should include any specified Python code and results as well as written commentary on your conclusions.  Remember that you are encouraged to discuss the problems with your classmates, but **you must write all code and solutions on your own**.\n",
    "\n",
    "**NOTES**: \n",
    "\n",
    "- Any relevant data sets should be available under the **Data** module on Canvas. To make life easier on the graders if they need to run your code, do not change the relative path names here. Instead, move the files around on your computer.\n",
    "- If you're not familiar with typesetting math directly into Markdown then by all means, do your work on paper first and then typeset it later.  Remember that there is a [reference guide](https://math.meta.stackexchange.com/questions/5020/mathjax-basic-tutorial-and-quick-reference) linked on Canvas on writing math in Markdown. **All** of your written commentary, justifications and mathematical work should be in Markdown.\n",
    "- Because you can technically evaluate notebook cells is a non-linear order, it's a good idea to do Kernel $\\rightarrow$ Restart & Run All as a check before submitting your solutions.  That way if we need to run your code you will know that it will work as expected. \n",
    "- It is **bad form** to make your reader interpret numerical output from your code.  If a question asks you to compute some value from the data you should show your code output **AND** write a summary of the results in Markdown directly below your code. \n",
    "- This probably goes without saying, but... For any question that asks you to calculate something, you **must show all work and justify your answers to receive credit**. Sparse or nonexistent work will receive sparse or nonexistent credit. \n",
    "\n",
    "---\n",
    "**Shortcuts:**  [Problem 1](#p1) | [Problem 2](#p2) | [Problem 3](#p3) | [Problem 4](#p4) | \n",
    "\n",
    "---"
   ]
  },
  {
   "cell_type": "code",
   "execution_count": 1,
   "metadata": {},
   "outputs": [],
   "source": [
    "import pandas as pd\n",
    "import numpy as np\n",
    "from scipy import stats\n",
    "import matplotlib.pylab as plt\n",
    "import math\n",
    "%matplotlib inline"
   ]
  },
  {
   "cell_type": "markdown",
   "metadata": {},
   "source": [
    "<br>\n",
    "\n",
    "---\n",
    "<a id='p1'></a>\n",
    "[Back to top](#top)\n",
    "\n",
    "<img src=\"https://media.daysoftheyear.com/20171223112636/hedgehog-day1.jpg\" style=\"width: 500px;\"/>\n",
    "\n",
    "\n",
    "### [25 points] Problem 1\n",
    "\n",
    "Suppose you are modeling the probability of observing various levels of cuteness in hedgehogs you encounter.  Let $X$ be a random variable representing the observed cuteness, which is *obviously* nonnegative and has units of deci*awws*. You decide to use the following pdf for $X$:\n",
    "\n",
    "$$\n",
    "f(x) = \\begin{cases}\n",
    "         c \\ x \\ e^{\\left(-\\frac{x^2}{6}\\right)} & 0 \\leq x < \\infty \\\\\n",
    "         0                           & \\text{otherwise}\n",
    "       \\end{cases}\n",
    "$$\n",
    "where $c$ is some normalizing constant.\n",
    "\n",
    "**Part A**: Determine the value of $c$ such that $f(x)$ is a valid probability density function. Then, make a plot of the probability density function for hedgehog cuteness, $f(x)$. Be sure to label your plot and axes!"
   ]
  },
  {
   "cell_type": "markdown",
   "metadata": {},
   "source": [
    "$$\n",
    "\\int_0^\\infty cxe^{-\\frac{x^2}{6}}dx = 1 \\tag{The PDF}\n",
    "$$\n",
    "$$\n",
    "\\int_0^\\infty cxe^{u}dx \\text{ where } u = -\\frac{x^2}{6}, du = -\\frac{x}{3} dx,xdx=-3du \\tag{u substitution}\n",
    "$$\n",
    "$$\n",
    "\\int_0^\\infty c(-3)e^udu \\tag{completed u substitution}\n",
    "$$\n",
    "$$\n",
    "c(-3)e^u\\rvert_0^\\infty = c(-3)e^{\\frac{-x^2}{6}}\\rvert_o^\\infty=1 \\tag{integrating}\n",
    "$$\n",
    "$$\n",
    "(-1/3)ce^{\\frac{-\\infty^2}{6}}-(-1/3)ce^0=1 \\tag{plugging in the bounds}\n",
    "$$\n",
    "$$\n",
    "-ce^{-\\infty}+ce^0=1/3 \\tag{solving for c}\n",
    "$$\n",
    "$$\n",
    "c=1/3 \\tag{solved for c}\n",
    "$$"
   ]
  },
  {
   "cell_type": "code",
   "execution_count": 2,
   "metadata": {},
   "outputs": [
    {
     "data": {
      "text/plain": [
       "Text(0.5, 0, 'Value of x (cuteness)')"
      ]
     },
     "execution_count": 2,
     "metadata": {},
     "output_type": "execute_result"
    },
    {
     "data": {
      "image/png": "[encoded data removed]",
      "text/plain": [
       "<Figure size 720x360 with 1 Axes>"
      ]
     },
     "metadata": {
      "needs_background": "light"
     },
     "output_type": "display_data"
    }
   ],
   "source": [
    "def pdf(x):\n",
    "    val = 1/3\n",
    "    val *= x\n",
    "    val *= np.exp(-(x**2)/6)\n",
    "    return val\n",
    "\n",
    "values = []\n",
    "for i in range(10):\n",
    "    values.append(pdf(i))\n",
    "    \n",
    "x = np.arange(0.0, 10.0, 0.1)\n",
    "\n",
    "fig, ax = plt.subplots(figsize=(10,5))\n",
    "plt.plot(x, pdf(x), 'k')\n",
    "ax.set_title(\"Graph of the Cuteness pdf\")\n",
    "ax.set_ylabel(\"Probability of x (cuteness)\")\n",
    "ax.set_xlabel(\"Value of x (cuteness)\")"
   ]
  },
  {
   "cell_type": "markdown",
   "metadata": {},
   "source": [
    "**Part B**: Compute *by hand* the cumulative density (cdf) function $F(x)$ for $X$."
   ]
  },
  {
   "cell_type": "markdown",
   "metadata": {},
   "source": [
    "$$\n",
    "\\int_0^X (1/3)te^{-\\frac{t^2}{6}}dt \\tag{This is the cdf}\n",
    "$$\n",
    "$$\n",
    "\\int_0^X (1/3)te^{u}dt \\text{ where } u = -\\frac{t^2}{6}, du = -\\frac{t}{3} dt,tdt=-3du \\tag{u substitution}\n",
    "$$\n",
    "$$\n",
    "\\int_0^X (1/3)(-3)e^udu \\tag{completed u substitution}\n",
    "$$\n",
    "$$\n",
    "(1/3)(-3)e^u\\rvert_0^X = (1/3)(-3)e^{\\frac{-t^2}{6}}\\rvert_o^X \\tag{integrating and substituting t back in}\n",
    "$$\n",
    "$$\n",
    "-e^{-\\frac{X^2}{6}}-(-e^0) = -e^{-\\frac{X^2}{6}}+1 \\tag{solving}\n",
    "$$\n",
    "$$\n",
    "\\text{So the cdf is: } 1-e^{-\\frac{X^2}{6}}\n",
    "$$"
   ]
  },
  {
   "cell_type": "markdown",
   "metadata": {},
   "source": [
    "**Part C:**  Use the cdf you derived in **Part B** to calculate the median ($\\tilde{x}$) cuteness of all hedgehogs."
   ]
  },
  {
   "cell_type": "markdown",
   "metadata": {},
   "source": [
    "$$\n",
    "0.5 = 1-e^{-\\frac{x^2}{6}} \\tag{this is when half the data is before and half is after so median}\n",
    "$$\n",
    "$$\n",
    "0.5 = e^{-\\frac{x^2}{6}} \\tag{solving for x}\n",
    "$$\n",
    "$$\n",
    "ln(0.5) = ln(e^{-\\frac{x^2}{6}}) = -\\frac{x^2}{6} \\tag{ln of both sides to get rid of e}\n",
    "$$\n",
    "$$\n",
    "\\sqrt{-6ln(0.5)}=x \\tag{algebra}\n",
    "$$\n",
    "$$\n",
    "\\text{Median} = \\sqrt{-6ln(0.5)} \\approx 2.03933 \\text{ exact below in python}\n",
    "$$"
   ]
  },
  {
   "cell_type": "code",
   "execution_count": 3,
   "metadata": {},
   "outputs": [
    {
     "name": "stdout",
     "output_type": "stream",
     "text": [
      "2.039333980337618\n"
     ]
    }
   ],
   "source": [
    "median = np.sqrt(-6*np.log(0.5))\n",
    "print(median)"
   ]
  },
  {
   "cell_type": "markdown",
   "metadata": {},
   "source": [
    "**Part D**: It is a well-known fact that any hedgehog whose cuteness exceeds 3 deciawws is **totes adorbz**. Use the cdf you computed in **Part B** to find the probability that any arbitrary hedgehog that you observe is totes adorbz."
   ]
  },
  {
   "cell_type": "markdown",
   "metadata": {},
   "source": [
    "$$\n",
    "\\text{Probability totes adorbz is: } 1-(1-e^{-\\frac{3^2}{6}}) \n",
    "$$\n",
    "$$\n",
    "\\text{since probability of less than 3 is: } 1-e^{-\\frac{3^2}{6}} \\text{ and the opposite 1-that is probability greater than 3}\n",
    "$$\n",
    "$$\n",
    "1-(1-e^{-\\frac{3^2}{6}}) = 1-1+e^{-\\frac{9}{6}} = e^{-\\frac{3}{2}} = 0.22313\\tag{calculated in python below}\n",
    "$$"
   ]
  },
  {
   "cell_type": "code",
   "execution_count": 4,
   "metadata": {},
   "outputs": [
    {
     "name": "stdout",
     "output_type": "stream",
     "text": [
      "0.22313016014842982\n"
     ]
    }
   ],
   "source": [
    "prob = np.exp(-3/2)\n",
    "print(prob)"
   ]
  },
  {
   "cell_type": "markdown",
   "metadata": {},
   "source": [
    "**Part E:** You have been painstakingly collecting data on hedgehogs all over town, and the cuteness is damn near overwhelming. Suppose you sample 6 hedgehogs, and the cuteness of any given hedgehog is independent of the cuteness of all other hedgehogs. What is the probability that at least 2 but not all of them are totes adorbz?"
   ]
  },
  {
   "cell_type": "markdown",
   "metadata": {},
   "source": [
    "This is a binomial with probability of event p = 0.22313, 6 = n trials, 2 = x successess,\n",
    "or the probability of x = 3, or x = 4, or x = 5.\n",
    "$$\n",
    "\\frac{6!}{x!(6-x!)}0.22313^x(1-0.22313)^{6-x} \\tag{putting the values above into binomial equation}\n",
    "$$\n",
    "Which will be calculated with python because that is easier than by hand, where x will = 2,3,4,5 and the results of each x will be added together since the events are independent and it is 2 or 3 or 4 or 5. "
   ]
  },
  {
   "cell_type": "code",
   "execution_count": 5,
   "metadata": {},
   "outputs": [
    {
     "name": "stdout",
     "output_type": "stream",
     "text": [
      "0.4012096262710517\n"
     ]
    }
   ],
   "source": [
    "def adorbz(x):\n",
    "    top = np.math.factorial(6)\n",
    "    bottom = np.math.factorial(x)*np.math.factorial(6-x)\n",
    "    retur = top/bottom\n",
    "    retur *= prob**x\n",
    "    retur *= (1-prob)**(6-x)\n",
    "    return retur\n",
    "\n",
    "adorbz2 = [adorbz(2),adorbz(3),adorbz(4),adorbz(5)]\n",
    "adorbzVal = np.sum(adorbz2)\n",
    "print(adorbzVal)"
   ]
  },
  {
   "cell_type": "markdown",
   "metadata": {
    "collapsed": true
   },
   "source": [
    "<br>\n",
    "\n",
    "---\n",
    "<a/ id='p2'></a>\n",
    "[Back to top](#top)\n",
    "### [25 points] Problem 2 - Monte Carlo Estimation of Definite Integrals\n",
    "\n",
    "One really cool application of random variables is using them to approximate integrals/area under a curve.  This method of approximating integrals is used frequently in computational science to approximate really difficult integrals that we never want to do by hand.  In this exercise you'll figure out how we can do this in practice and test your method on a relatively simple integral. "
   ]
  },
  {
   "cell_type": "markdown",
   "metadata": {
    "collapsed": true
   },
   "source": [
    "**Part A.**  Let $X$ be a random variable representing how delicious a pie you bake is, as measured by the **Deliciousness Index** (DI).  Suppose the probability density function for $X$ is described by the raised cosine probability density function:\n",
    "\n",
    "$$\n",
    "f(x) = \\begin{cases}\n",
    "         \\dfrac{1}{\\pi}\\left(\\cos{(x)} + 1\\right) & 0 \\leq x \\leq \\pi \\\\\n",
    "         0                           & \\text{otherwise}\n",
    "         \\end{cases}\n",
    "$$\n",
    "\n",
    "A Deliciousness Index of $\\pi$ is the most delicious pie you can ever hope to create, and a DI of $0$ is the most disgusting pie you have ever tasted.  \n",
    "\n",
    "Compute **by hand**, the integral of $f(x)$ for $0 \\leq x \\leq \\dfrac{\\pi}{2}$.  Write a sentence or two to interpret your result physically, in the context of this problem set-up."
   ]
  },
  {
   "cell_type": "markdown",
   "metadata": {
    "collapsed": true
   },
   "source": [
    "$$\n",
    "\\int_0^\\frac{\\pi}{2} \\frac{cosx}{\\pi} + \\frac{1}{\\pi} dx \\tag{distributing the 1/pi}\n",
    "$$\n",
    "$$\n",
    "\\int_0^\\frac{\\pi}{2} \\frac{cosx}{\\pi}dx + \\int_0^\\frac{\\pi}{2} \\frac{1}{\\pi}dx \\tag{splitting up the integral}\n",
    "$$\n",
    "$$\n",
    "\\frac{sinx}{\\pi} + \\frac{x}{\\pi} \\rvert_0^\\frac{\\pi}{2} \\tag{integrating}\n",
    "$$\n",
    "$$\n",
    "\\frac{sin\\frac{\\pi}{2}}{\\pi} + \\frac{\\frac{\\pi}{2}}{\\pi} - \\frac{sin0}{\\pi} - \\frac{0}{\\pi} \\tag{doing the bounds}\n",
    "$$\n",
    "$$\n",
    "\\text{the integral of $f(x)$ for $0 \\leq x \\leq \\dfrac{\\pi}{2}$} = \\frac{1}{\\pi} + 0.5 \\tag{the answer}\n",
    "$$\n",
    "\n",
    "Which is the probability that your pie is between 0 and pi/2 deliciousness."
   ]
  },
  {
   "cell_type": "markdown",
   "metadata": {},
   "source": [
    "**Part B.** Suppose we sample a random variable $X$ from $U(0,\\frac{\\pi}{2})$ and another random variable $Y$ from $U(0,1)$ and think of them as $x$- and $y$-coordinates of a point in the box $[0,\\frac{\\pi}{2}] \\times [0,1]$.  If we compute the ratio of points that fall under the curve $f(x)$ to the total points sampled, what does this value estimate? "
   ]
  },
  {
   "cell_type": "markdown",
   "metadata": {
    "collapsed": true
   },
   "source": [
    "This ratio estimates how many points fall under the curve out of the total points which is the amount of area we have under the curve to the total area without any units of area just a ratio of under the curve to total in some area."
   ]
  },
  {
   "cell_type": "markdown",
   "metadata": {},
   "source": [
    "**Part C.** How could we modify the process outlined in **Part B** so that our estimator estimates the value of the desired integral?  If you need inspiration, check out the in-class notebook on Stochastic Simulation (#4), specifically, the exercise where we estimated $\\pi$!"
   ]
  },
  {
   "cell_type": "markdown",
   "metadata": {
    "collapsed": true
   },
   "source": [
    "Since we have the ratio of points under the curve to total points, if we multiply this by the area then we get how much of the area falls under the curve."
   ]
  },
  {
   "cell_type": "markdown",
   "metadata": {},
   "source": [
    "**Part D.** Complete the function `integrate` below to compute an approximation to the definition integral $\\int_0^{\\text{ub}} f(x)dx$.  Your function should take as arguments:\n",
    "1. `num_samples` -- the number of points to sample,\n",
    "2. `ub` -- a number between $0$ and $\\pi$ that is the upper bound of the integral, and\n",
    "3. `isPlot` -- a Boolean flag for whether or not to display a plot of the results.\n",
    "\n",
    "Your function should return an approximation of the definite integral by sampling $X$ from $U(0,\\text{ub})$ and $Y$ from $U(0,1)$. For each random draw $(X,Y)$, define the random variable $Z$ that represents whether or not the sampled $Y$ value is less than $f(X)$ for the corresponding $X$ value.\n",
    "\n",
    "Your function should perform three tasks: \n",
    "\n",
    "1. return the estimate of the value of the integral,\n",
    "2. return the sample variance of the random variable $Z$ being simulated, using the np.var function, and\n",
    "3. if `isPlot` is True, plot the curve $f(x)$ as well as the location of the points $(X,Y)$, colored according to whether they fall above or below the curve. "
   ]
  },
  {
   "cell_type": "code",
   "execution_count": 6,
   "metadata": {},
   "outputs": [
    {
     "name": "stdout",
     "output_type": "stream",
     "text": [
      "(1.0, 0.030769819815309612)\n"
     ]
    },
    {
     "data": {
      "image/png": "[encoded data removed]",
      "text/plain": [
       "<Figure size 864x576 with 1 Axes>"
      ]
     },
     "metadata": {
      "needs_background": "light"
     },
     "output_type": "display_data"
    }
   ],
   "source": [
    "# calculating the pdf\n",
    "def f(x):\n",
    "    oneoverpi = 1.0/np.pi\n",
    "    cos = np.cos(x)\n",
    "    return (oneoverpi*(cos+1))\n",
    "\n",
    "# GIVEN CODE - Do not change the inputs/outputs or your code will fail unit tests and auto-grading!\n",
    "def integrate(num_samples, ub, isPlot):\n",
    "    \n",
    "    #-----------------------------------------\n",
    "    # your code goes here!  replace this junk:\n",
    "    \n",
    "    # make a bunch of random points\n",
    "    x = np.random.uniform(low=0, high=ub, size=num_samples)\n",
    "    y = np.random.uniform(low=0, high=1, size=num_samples)\n",
    "    \n",
    "    # some variables\n",
    "    i = 0\n",
    "    below = 0\n",
    "    z = []\n",
    "    zx = []\n",
    "    above = []\n",
    "    abovex = []\n",
    "    \n",
    "    # iterate through your points\n",
    "    while i < num_samples:\n",
    "        # if the f(x) > y at that point then append and add to points below\n",
    "        if f(x[i]) >= y[i]:\n",
    "            below += 1\n",
    "            z.append(y[i])\n",
    "            zx.append(x[i])\n",
    "        # so we gotta plot different colors so if above save it\n",
    "        else:\n",
    "            above.append(y[i])\n",
    "            abovex.append(x[i])\n",
    "        i += 1\n",
    "    \n",
    "    estimate = 0\n",
    "    # calculate our ratio\n",
    "    estimate = below/num_samples\n",
    "    # multiply by the area\n",
    "    estimate *= ub\n",
    "    \n",
    "    sample_var = np.var(z)\n",
    "    \n",
    "    if isPlot:\n",
    "        fig, ax = plt.subplots(figsize=(12, 8))\n",
    "        fx = np.arange(0.0, ub, 0.1)\n",
    "        plt.plot(fx, f(fx), 'k')\n",
    "        plt.scatter(abovex, above, fc=\"blue\")\n",
    "        plt.scatter(zx, z, fc=\"red\")\n",
    "        ax.set_title(\"Making random points to compute cdf\")\n",
    "        ax.set_ylabel(\"Probability of deliciousness\")\n",
    "        ax.set_xlabel(\"The value of Deliciousness Index\")\n",
    "    \n",
    "    #-----------------------------------------\n",
    "    \n",
    "    return estimate, sample_var\n",
    "\n",
    "print(integrate(20, 2, True))"
   ]
  },
  {
   "cell_type": "markdown",
   "metadata": {},
   "source": [
    "**Part E.** Write your own small unit tests!\n",
    "\n",
    "First, what should your `integrate` function output if you plug in `ub=0`? Set that as `int_0_to_0` below.\n",
    "\n",
    "Second, what should your `integrate` function output if you plug in `ub=`$\\pi$? Set that as `int_0_to_pi` below.\n",
    "\n",
    "Then, you can execute the cell below to run two sanity checks. Write out **in math** (like, a definite integral) what each of these two tests is checking and **why** that is a reasonable sanity check.\n",
    "\n",
    "If these two assertions run without fail, then things seem to be working okay. Note that the upper endpoint test is stochastic, so if it fails, try running it a few times. If it fails a lot, then things are probably going wrong."
   ]
  },
  {
   "cell_type": "code",
   "execution_count": 7,
   "metadata": {},
   "outputs": [],
   "source": [
    "int_0_to_0  = 0\n",
    "int_0_to_pi = 1\n",
    "\n",
    "# so since we calculated 0 to pi/2 I'm gonna check that too\n",
    "# int_0_to_pi2 = (1/np.pi) + 0.5\n",
    "# assert math.isclose(integrate(10000, np.pi/2, False)[0],int_0_to_pi2, abs_tol=0.03), \"Error: midpoint failing\"\n",
    "\n",
    "#---------------------------------------\n",
    "# DO NOT EDIT THIS CELL BELOW HERE\n",
    "#---------------------------------------\n",
    "assert integrate(1000, 0, False)[0]==int_0_to_0, \"Error: lower endpoint test failing\"\n",
    "assert math.isclose(integrate(10000, np.pi, False)[0],int_0_to_pi,abs_tol=0.03), \"Error: upper endpoint test failing\""
   ]
  },
  {
   "cell_type": "code",
   "execution_count": null,
   "metadata": {},
   "outputs": [],
   "source": []
  },
  {
   "cell_type": "markdown",
   "metadata": {},
   "source": [
    "**Part F.** Run your simulation with `isPlot=True` and `ub=`$\\frac{\\pi}{2}$ for 1,000 samples so we can see your plot. Then, run your simulation (with `isPlot=False`) with at least 10,000 samples and estimate the value of the given integral. Be sure to leave your cells evaluated for the graders! Does your estimate agree with the exact value of the integral you computed in **Part A**? "
   ]
  },
  {
   "cell_type": "code",
   "execution_count": 8,
   "metadata": {},
   "outputs": [
    {
     "name": "stdout",
     "output_type": "stream",
     "text": [
      "(0.82796674385359, 0.02700562075508992)\n"
     ]
    },
    {
     "data": {
      "image/png": "[encoded data removed]",
      "text/plain": [
       "<Figure size 864x576 with 1 Axes>"
      ]
     },
     "metadata": {
      "needs_background": "light"
     },
     "output_type": "display_data"
    }
   ],
   "source": [
    "integrate(1000, np.pi/2.0, True)\n",
    "print(integrate(10000, np.pi/2.0, False))"
   ]
  },
  {
   "cell_type": "markdown",
   "metadata": {},
   "source": [
    "The estimate is close to the exact value computed in Part A."
   ]
  },
  {
   "cell_type": "markdown",
   "metadata": {
    "collapsed": true
   },
   "source": [
    "<br>\n",
    "\n",
    "---\n",
    "<a/ id='p3'></a>\n",
    "[Back to top](#top)\n",
    "### [25 points] Problem 3 - Mmmm... Donuts...\n",
    "\n",
    "<img src=\"http://astrokentico.s3.amazonaws.com/rojakdaily/media/1nichoras/homer%20simpson%20krispy%20kreme/main.jpg?ext=.jpg\" style=\"width:300px;\"/>\n",
    "\n",
    "You bring many donuts (or _doughnuts_, if you're into that) to work to share with your coworkers at the Boulder Nuclear Power Planet. But due to the high levels of radiation there, they must be inspected for safety. In particular, if the mean level of radiation in a sample from your batch of donuts is above [195 mSv (millisievert)](#rad), then they are deemed unsafe and you must throw the whole batch away.\n",
    "\n",
    "You know that historically donuts at the power plant have, on average, 180 mSv of radiation, with a standard deviation of 65 mSv. To test the donut radiation levels, you take the donut receipt and pick every fifth donut off it, and sample the radiation levels of those donuts. You end up sampling the radiation levels of 49 donuts out of the batch. Assume that your donuts follow the same distribution as that of the historical donuts."
   ]
  },
  {
   "cell_type": "markdown",
   "metadata": {},
   "source": [
    "**Part A.** What is the probability that a donut batch is deemed unsafe?  You should at the very least set up and justify your calculation by hand (in Markdown/Mathjax), before executing any calculations in Python."
   ]
  },
  {
   "cell_type": "markdown",
   "metadata": {},
   "source": [
    "X~N(180,$65^2$) n = 49 <br>\n",
    "P(195 < $\\bar X$) <br>\n",
    "$ P(\\frac{195-180}{65/\\sqrt{49}}<\\frac{\\bar{X} - \\mu}{\\sigma / \\sqrt{n}}) = P(\\frac{15}{65/7}<Z) = 1 - \\phi (21/13) = 0.053 $"
   ]
  },
  {
   "cell_type": "code",
   "execution_count": 9,
   "metadata": {},
   "outputs": [
    {
     "name": "stdout",
     "output_type": "stream",
     "text": [
      "0.05311371489000205\n"
     ]
    }
   ],
   "source": [
    "unsafe = 1 - stats.norm.cdf(21.0/13.0)\n",
    "print(unsafe)"
   ]
  },
  {
   "cell_type": "markdown",
   "metadata": {},
   "source": [
    "**Part B.** Yikes! Seems like those donuts might be dangerous, but you really do not want to throw away donuts that frequently, so you propose to store the donuts in a lead-lined donut box. But lead also is not very good for your health, so you are motivated to use the least amount of lead possible. What is the maximum mean amount of radiation $\\mu$ for our donuts to have such that the probability that we will throw donuts out due to safety concerns is at most 0.02?\n",
    "\n",
    "Calculate this **by hand**, using Python only to perform arithmetic operations and compute critical values of a standard normal random variable."
   ]
  },
  {
   "cell_type": "markdown",
   "metadata": {},
   "source": [
    "1 - 0.02 = 0.98 which is the probability we want for the mean to be below 195. <br>\n",
    "$\\phi(Z) = 0.98, Z = 2.054 $ by python below <br>\n",
    "$Z = \\frac{195-\\mu}{65/\\sqrt{49}}$ <br>\n",
    "$2.05(65/\\sqrt{49} = 195 - \\mu$ <br>\n",
    "$195 - 2.05(65/7) = \\mu$ <br>\n",
    "$\\mu = 175.93$"
   ]
  },
  {
   "cell_type": "code",
   "execution_count": 10,
   "metadata": {},
   "outputs": [
    {
     "name": "stdout",
     "output_type": "stream",
     "text": [
      "2.0537489106318225\n",
      "175.92947440127594\n"
     ]
    }
   ],
   "source": [
    "z = stats.norm.ppf(0.98)\n",
    "print(z)\n",
    "mu = 195.0 - (z*(65.0/7.0))\n",
    "print(mu)"
   ]
  },
  {
   "cell_type": "markdown",
   "metadata": {},
   "source": [
    "**Part C.**  Your supervisor at the plant decides that serving up donuts in a lead-lined box is a bad idea. Fair enough.\n",
    "\n",
    "But she is still imposing the requirement that the probability of a batch of donuts being rejected must be less than 0.02. However, she knows a differnat bakery that might be the solution. At Johnny's Super Consistent Baked Goods Emporium all the donuts are exactly the same in size, which means they are closer to being exactly the same in radiation content (less deviation). Suppose the mean and sample size are at their original values of $\\mu = 190$ mSv and $n = 49$ mSv. What is the largest standard deviation to satisfy this requirement?\n",
    "\n",
    "Calculate this **by hand**, using Python only to perform arithmetic operations and compute critical values of a standard normal random variable."
   ]
  },
  {
   "cell_type": "markdown",
   "metadata": {},
   "source": [
    "Z = 2.054 from part B. <br>\n",
    "$ 2.054 = \\frac{195-190}{\\sigma /\\sqrt{49}}$ <br> \n",
    "$ \\sigma*2.054/7 = 5$<br>\n",
    "$\\sigma = 5*7/2.054 = 17.04$<br>"
   ]
  },
  {
   "cell_type": "code",
   "execution_count": 11,
   "metadata": {},
   "outputs": [
    {
     "name": "stdout",
     "output_type": "stream",
     "text": [
      "17.04200538771435\n"
     ]
    }
   ],
   "source": [
    "sigma = 5*7/z\n",
    "print(sigma)"
   ]
  },
  {
   "cell_type": "markdown",
   "metadata": {},
   "source": [
    "**Part D:** Since donuts of differant diameters absorb differant amounts of radiation it is easy to model the standard deviation of radiation content in terms of the standard deviation in donut size. Assume the function $RD$ below takes in the standard deviation in millimeters of donut diameter $(\\sigma_d)$, and gives the radiation deviation in mSv.\n",
    "\n",
    "$\\begin{align}\n",
    "    RD(\\sigma_d) = \\frac{5^{\\sigma_d} \\times 1mSv}{6mm}\n",
    "\\end{align}$\n",
    "\n",
    "Johnny's bakes according to the following $\\textit{\"mathmatically\"}$ correct donut size:\n",
    "\n",
    "<img src=\"http://www.conquermaths.com/news/images/decinfo.jpg\" style=\"width:300px;\"/>\n",
    "\n",
    "So they strive for a donut diameter of 72 - 82 mm, with less than 5mm of standard deviation. However, we're not taking their word for it. We've taken a sample of 36 donuts from Johnny's to determine if their low standard deviation satisfies our requirement of less than $0.02$ chance that we throw away our donuts. The observed standard deviation in donut size was 2.8mm. Assume that the mean radiation remains unchanged from the other donuts. Do Johnny's donuts satisfy our requirement of less than $0.02$ chance that we throw them away? "
   ]
  },
  {
   "cell_type": "markdown",
   "metadata": {},
   "source": [
    "Z = 2.054 from part B <br>\n",
    "Same process as part A <br>\n",
    "we have the donut deviation but want radiation deviation\n",
    "$5^{2.8} / 6 = \\sigma$ <br> \n",
    "X~N(190,$\\sigma^2$) n = 36 <br>\n",
    "P(195 < $\\bar X$) <br>\n",
    "$ P(\\frac{195-190}{\\sigma/\\sqrt{36}}<\\frac{\\bar{X} - \\mu}{\\sigma / \\sqrt{n}}) = P(\\frac{5}{\\sigma/6}<Z) = 1 - \\phi(\\frac{5}{\\sigma/6}) = 0.023 $ <br>\n",
    "So the chance we through them away is 0.023 which means that we barely don't meet the requirement of less than 0.02 chance of throwing the donuts away. \n"
   ]
  },
  {
   "cell_type": "code",
   "execution_count": 15,
   "metadata": {},
   "outputs": [
    {
     "name": "stdout",
     "output_type": "stream",
     "text": [
      "0.023471688523663103\n"
     ]
    }
   ],
   "source": [
    "sigma = 5.0**2.8\n",
    "sigma /= 6.0\n",
    "sigma /= 6.0\n",
    "result = 1.0 - stats.norm.cdf(5.0/(sigma))\n",
    "print(result)"
   ]
  },
  {
   "cell_type": "markdown",
   "metadata": {
    "collapsed": true
   },
   "source": [
    "**Part D.** Can you think of any potential issues with using a normal distribution to model the radiation content of our donuts?"
   ]
  },
  {
   "cell_type": "markdown",
   "metadata": {},
   "source": [
    "Well, we can say on average our donuts are this good, but if half of them have really high radiation and half have low radiation then we eat a bad one then we die so this may not be a good way to model the donuts since we want every individual donuts radiation, not the overall. With a normal distribution model we have that if 194 is safe then half will be below half will be above and half of the donuts being above the unsafe 195 is bad. We probably want something more of a cut off where there are no donuts above 195 instead of a normal distribution since one bad donut is bad. Also, since they are working in a radiation environment, if the donuts are radiated there is probably a reason so there is not an equal probability everytime that they are radiated but it's more dependent on how they are handled and what they are exposed to in the facility."
   ]
  },
  {
   "cell_type": "markdown",
   "metadata": {},
   "source": [
    "<br>\n",
    "\n",
    "---\n",
    "<a/ id='p4'></a>\n",
    "[Back to top](#top)\n",
    "\n",
    "##  [25 points] Problem 4 - CDF Inversion Sampling\n",
    "\n",
    "In notebook 12, we looked at one method many pieces of statistical software use to turn pseudorandom numbers coming from the $U(0,1)$ distribution into those with a normal distribution.  In this problem we examine another such method.\n",
    "\n",
    "### a) Simulating an Exponential\n",
    "#### i ) The exponential distribution has pdf $f(x)= \\lambda e^{-\\lambda x}$ for $x\\ge 0$.  Use the following markdown cell to compute by hand the cdf of the exponential."
   ]
  },
  {
   "cell_type": "markdown",
   "metadata": {},
   "source": [
    "$$\n",
    "\\int_0^x \\lambda e^{-\\lambda t}\n",
    "$$\n",
    "$$\n",
    "\\int_0^x -e^u du, u = -\\lambda t, du = -\\lambda\n",
    "$$\n",
    "$$\n",
    "-e^u \\rvert_0^x = -e^{-\\lambda t}\\rvert_0^x\n",
    "$$\n",
    "$$\n",
    "cdf = 1-e^{-\\lambda x}\n",
    "$$"
   ]
  },
  {
   "cell_type": "markdown",
   "metadata": {},
   "source": [
    "#### ii) The cdf is a function that takes x-values (or times, in the case of the exponential) and returns probabilities as the y-values.  Specifically, it returns the probability $P(X \\leq x)$.  Find the *inverse* of this function, that takes as input probabilities and outputs times."
   ]
  },
  {
   "cell_type": "markdown",
   "metadata": {},
   "source": [
    "$$\n",
    "y = 1 - e^{- \\lambda x}\n",
    "$$\n",
    "$$\n",
    "1-y = e^{- \\lambda x}\n",
    "$$\n",
    "$$\n",
    "ln(1-y) = - \\lambda x\n",
    "$$\n",
    "$$\n",
    "-\\frac{ln(1-y)}{\\lambda} = x\n",
    "$$\n",
    "$$\n",
    "\\text{so the inverse is: } y = -\\frac{ln(1-x)}{\\lambda}\n",
    "$$"
   ]
  },
  {
   "cell_type": "markdown",
   "metadata": {},
   "source": [
    "\n",
    "#### iii) Simulate 1000 random $U(0,1)$ variables.  Since these are numbers in $[0,1]$, we could think of them as random *probabilities*.  Plug them into the function you found in ii), then plot a histogram of the results.  Overlay the theoretical density of the exponential.  For each of these, use $\\lambda=1/4$."
   ]
  },
  {
   "cell_type": "code",
   "execution_count": 12,
   "metadata": {},
   "outputs": [
    {
     "data": {
      "text/plain": [
       "<matplotlib.legend.Legend at 0x1b69f7b2c18>"
      ]
     },
     "execution_count": 12,
     "metadata": {},
     "output_type": "execute_result"
    },
    {
     "data": {
      "image/png": "[encoded data removed]",
      "text/plain": [
       "<Figure size 576x432 with 1 Axes>"
      ]
     },
     "metadata": {
      "needs_background": "light"
     },
     "output_type": "display_data"
    }
   ],
   "source": [
    "# first making the cdf\n",
    "def pdf(x):\n",
    "    return (np.exp(-x/4)/4)\n",
    "\n",
    "# then the inverse cdf\n",
    "def cdfin(y):\n",
    "    return (-4*np.log(1-y))\n",
    " \n",
    "# now making the data and plugging it in\n",
    "x = np.random.uniform(0, 1, size=1000)\n",
    "smooth = np.arange(0, 30, 0.1)\n",
    "\n",
    "# now plotting \n",
    "fig, ax = plt.subplots(figsize=(8,6))\n",
    "plt.hist(cdfin(x), density=True, bins=range(0,30,1))\n",
    "plt.plot(smooth, pdf(smooth))\n",
    "ax.set_title(\"Predicting pdf vs actual pdf\")\n",
    "ax.set_xlabel(\"x value\")\n",
    "ax.set_ylabel(\"Probability of x\")\n",
    "ax.legend([\"actual density\", \"random density\"])"
   ]
  },
  {
   "cell_type": "markdown",
   "metadata": {},
   "source": [
    "### b) Simulating a new distribution\n",
    "#### i) Consider a continuous random variable given by $f(x)=\\frac{\\sin(x)}{2}$ for $x \\in [0, \\pi]$.  Find the cdf and inverse cdf of X."
   ]
  },
  {
   "cell_type": "markdown",
   "metadata": {},
   "source": [
    "$$\n",
    "\\int_0^x \\frac{sint}{2} dt\n",
    "$$\n",
    "$$\n",
    "\\frac{-cost}{2} \\rvert_0^x\n",
    "$$\n",
    "$$\n",
    "\\text{the cdf is: } -\\frac{cos(x)}{2}+0.5\n",
    "$$\n",
    "$$\n",
    "y = -\\frac{cos(x)}{2}+0.5\n",
    "$$\n",
    "$$\n",
    "arccos(-2y+1) = x\n",
    "$$\n",
    "$$\n",
    "\\text{the inverse cdf is: } y = arccos(-2x+1)\n",
    "$$"
   ]
  },
  {
   "cell_type": "markdown",
   "metadata": {},
   "source": [
    "\n",
    "#### ii) Simulate draws from X by simluating 1000 $U[0,1]$ random variables and plugging them into the inverse cdf you just found.  As in part a), plot a histogram of the random variables against their density function."
   ]
  },
  {
   "cell_type": "code",
   "execution_count": 13,
   "metadata": {},
   "outputs": [
    {
     "data": {
      "text/plain": [
       "<matplotlib.legend.Legend at 0x1b69fbb5e10>"
      ]
     },
     "execution_count": 13,
     "metadata": {},
     "output_type": "execute_result"
    },
    {
     "data": {
      "image/png": "[encoded data removed]",
      "text/plain": [
       "<Figure size 576x432 with 1 Axes>"
      ]
     },
     "metadata": {
      "needs_background": "light"
     },
     "output_type": "display_data"
    }
   ],
   "source": [
    "# first making the cdf\n",
    "def pdf(x):\n",
    "    return (np.sin(x)/2)\n",
    "\n",
    "# then the inverse cdf\n",
    "def cdfin(y):\n",
    "    return (np.arccos(-2*y+1))\n",
    " \n",
    "# now making the data and plugging it in\n",
    "x = np.random.uniform(0, 1, size=1000)\n",
    "smooth = np.arange(0, np.pi, 0.01)\n",
    "\n",
    "# now plotting \n",
    "fig, ax = plt.subplots(figsize=(8,6))\n",
    "plt.hist(cdfin(x), density=True, bins=range(0,4,1))\n",
    "plt.plot(smooth, pdf(smooth))\n",
    "ax.set_title(\"Predicting pdf vs actual pdf\")\n",
    "ax.set_xlabel(\"x value\")\n",
    "ax.set_ylabel(\"Probability of x\")\n",
    "ax.legend([\"actual density\", \"random density\"])"
   ]
  },
  {
   "cell_type": "markdown",
   "metadata": {},
   "source": [
    "### c) Generalizing\n",
    "\n",
    "Describe in words how this process might work on a discrete random variable.  You may use the Bernoulli as an example, if you wish."
   ]
  },
  {
   "cell_type": "markdown",
   "metadata": {},
   "source": [
    "You could go about it the same way. First you find the cdf, and then the inverse of that. Then you plug in probabilities and get the density histagram of the results in order to estimate the probability of your values. However since it is discrete you would have to estimate which group it actually falls into, and therefore would round to the nearest point so that you don't get a value of say 1.2, since that isn't a possible x for a discrete random variable in most cases. For a bernoulli, you would do the same process as above plugging probabilities into the inverse cdf, however you would have to estimate whether it is a 0 or 1 since it is either a success or fail. This may lead to some errrors in the calculation, but you could get a general idea of the probability of 0 or 1. "
   ]
  }
 ],
 "metadata": {
  "kernelspec": {
   "display_name": "Python 3",
   "language": "python",
   "name": "python3"
  },
  "language_info": {
   "codemirror_mode": {
    "name": "ipython",
    "version": 3
   },
   "file_extension": ".py",
   "mimetype": "text/x-python",
   "name": "python",
   "nbconvert_exporter": "python",
   "pygments_lexer": "ipython3",
   "version": "3.7.3"
  }
 },
 "nbformat": 4,
 "nbformat_minor": 2
}
