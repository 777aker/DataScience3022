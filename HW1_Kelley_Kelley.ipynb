{
 "cells": [
  {
   "cell_type": "markdown",
   "metadata": {},
   "source": [
    "<a id='top'></a>\n",
    "\n",
    "# Homework 1: Data Cleaning and Exploratory Data Analysis \n",
    "***\n",
    "\n",
    "**Name**: \n",
    "\n",
    "***\n",
    "\n",
    "This assignment is due on Canvas by **MIDNIGHT on Friday September 13**. Your solutions to theoretical questions should be done in Markdown directly below the associated question.  Your solutions to computational questions should include any specified Python code and results as well as written commentary on your conclusions.  Remember that you are encouraged to discuss the problems with your classmates, but **you must write all code and solutions on your own**.\n",
    "\n",
    "**NOTES**: \n",
    "\n",
    "- Any relevant data sets should be available under the **Data** module on Canvas. To make life easier on the graders if they need to run your code, do not change the relative path names here. Instead, move the files around on your computer.\n",
    "- If you're not familiar with typesetting math directly into Markdown then by all means, do your work on paper first and then typeset it later.  Remember that there is a [reference guide](https://math.meta.stackexchange.com/questions/5020/mathjax-basic-tutorial-and-quick-reference) linked on Canvas on writing math in Markdown. **All** of your written commentary, justifications and mathematical work should be in Markdown.\n",
    "- Because you can technically evaluate notebook cells is a non-linear order, it's a good idea to do Kernel $\\rightarrow$ Restart & Run All as a check before submitting your solutions.  That way if we need to run your code you will know that it will work as expected. \n",
    "- It is **bad form** to make your reader interpret numerical output from your code.  If a question asks you to compute some value from the data you should show your code output **AND** write a summary of the results in Markdown directly below your code. \n",
    "- This probably goes without saying, but... For any question that asks you to calculate something, you **must show all work and justify your answers to receive credit**. Sparse or nonexistent work will receive sparse or nonexistent credit. \n",
    "\n",
    "---\n",
    "**Shortcuts:**  [Problem 1](#p1) | [Problem 2](#p2) | [Problem 3](#p3) | [Problem 4](#p4) | [Problem 5](#p5) | [Problem 6](#p6)\n",
    "\n",
    "---"
   ]
  },
  {
   "cell_type": "code",
   "execution_count": 1,
   "metadata": {},
   "outputs": [],
   "source": [
    "import pandas as pd\n",
    "import numpy as np\n",
    "import matplotlib.pylab as plt\n",
    "%matplotlib inline"
   ]
  },
  {
   "cell_type": "markdown",
   "metadata": {},
   "source": [
    "[Back to top](#top)\n",
    "\n",
    "<br>\n",
    "\n",
    "<a/ id='p1'></a>\n",
    "\n",
    "### (10 points) Problem 1\n",
    "***\n",
    "\n",
    "<img style=\"float: left; width: 200px; padding: 3mm;\" src=\"https://aquarium.org/wp-content/uploads/2015/08/Seahorse-female.jpg\" alt=\"Drawing\"/>  \n",
    "Poseidon is studying seahorses. Locations in each of the Atlantic, Pacific, Indian, Artic, and Southern Oceans are chosen to catch and release seahorses. After being caught, the seahorses are monitored for 24 hours while being fed organic, free-range plankton. The amount of plankton that each seahorse eats is recorded in an app on Poseidon’s phone, called Hippocampus. He collects 6 seahorses from the Arctic Ocean, 36 seahorses from the Pacific Ocean, 12 seahorses from the Indian Ocean, 6 seahorses from the Southern Ocean, and 42 seahorses from the Atlantic Ocean. \n",
    "\n",
    "Poseidon wants to get a sense for the average amount of plankton eaten by seahorses, so he uses the Hippcampus app to randomly choose 1 seahorse from the Arctic, 6 from the Pacific, 2 from the Indian Ocean, 1 from the Southern Ocean, and 7 from the Atlantic Ocean.\n",
    "\n",
    "$$ \\quad $$\n",
    "<br>\n",
    "<br>\n",
    "<br>\n",
    "<br>\n",
    "**Part A:** Identify the following: \n",
    "\n",
    "- the population \n",
    "- the sample frame \n",
    "- the sample \n",
    "- the type of sample \n",
    "- the quantity of interest"
   ]
  },
  {
   "cell_type": "markdown",
   "metadata": {},
   "source": [
    "**Part A Solution** <br>\n",
    "The population: all of the sea horses in all of the seas including those not selected <br>\n",
    "The sample frame: the sea horses collected for the study <br>\n",
    "The sample: the sea horses he randomly selected from the ones he caught <br>\n",
    "The type of sample: stratified sample <br>\n",
    "The quantity of interest: average amount of plankton eaten by seahorses <br>"
   ]
  },
  {
   "cell_type": "markdown",
   "metadata": {},
   "source": [
    "**Part B:** Poseidon repeats his sampling, again using the Hippocampus app. Now, he orders the data alphabetically by location and chooses every 3rd data value. \n",
    "    \n",
    "Identify the following: \n",
    "\n",
    "- the population \n",
    "- the sample frame \n",
    "- the sample \n",
    "- the type of sample \n",
    "- the quantity of interest"
   ]
  },
  {
   "cell_type": "markdown",
   "metadata": {},
   "source": [
    "**Part B Solution** <br>\n",
    "The population: all of the sea horses in all of the seas including those not selected <br>\n",
    "The sample frame: the sea horses collected for the study <br>\n",
    "The sample: every 3rd sea horse he collected ordered alphabetically by location <br>\n",
    "The type of sample: systematic sample <br>\n",
    "The quantity of interest: average amount of plankton eaten by seahorses <br>"
   ]
  },
  {
   "cell_type": "markdown",
   "metadata": {},
   "source": [
    "[Back to top](#top)\n",
    "\n",
    "<br>\n",
    "\n",
    "<a/ id='p2'></a>\n",
    "\n",
    "### (20 points) Problem 2\n",
    "***\n",
    "\n",
    "A method to investigate the sensitivity of the sample mean and sample median to extreme outliers and changes in the dataset is to replace one or more elements in a given dataset by a number $y$ and investigate the effect when $y$ changes. To illustrate this, consider the following dataset:\n",
    " \n",
    "$$  4.3 \\quad 5.2 \\quad 5.0 \\quad y \\quad 3.8 \\quad 4.1 \\quad 5.5 \\quad 1.9 $$\n",
    "\n",
    "\n"
   ]
  },
  {
   "cell_type": "markdown",
   "metadata": {},
   "source": [
    "**Part A:** Compute the sample mean and sample median for $y=1.5$. Then compute both quantities again for $y=6$."
   ]
  },
  {
   "cell_type": "code",
   "execution_count": 2,
   "metadata": {},
   "outputs": [
    {
     "name": "stdout",
     "output_type": "stream",
     "text": [
      "The mean when y = 1.5 is:  3.9125\n",
      "The median when y = 1.5 is:  4.2\n",
      "The mean when y = 6 is:  4.475\n",
      "The median when y = 6 is:  4.6\n"
     ]
    }
   ],
   "source": [
    "#the data set when y = 1.5\n",
    "prob2 = np.array([4.3, 5.2, 5.0, 1.5, 3.8, 4.1, 5.5, 1.9])\n",
    "print(\"The mean when y = 1.5 is: \", prob2.mean()) #mean sums up the array and then divides by the elements\n",
    "print(\"The median when y = 1.5 is: \", round(10*np.median(prob2, axis = 0))/10) #median finds the median but is slightly off so round\n",
    "prob2 = np.array([4.3, 5.2, 5.0, 6.0, 3.8, 4.1, 5.5, 1.9]) #changing y to equal 6 instead of 1.5\n",
    "print(\"The mean when y = 6 is: \", prob2.mean()) #mean sums up the array and then divides by the elements\n",
    "print(\"The median when y = 6 is: \", round(10*np.median(prob2, axis = 0))/10) #median finds the median but is slightly off so round"
   ]
  },
  {
   "cell_type": "markdown",
   "metadata": {},
   "source": [
    "**Part B:** Is there a value for $y$ that would make the mean of the data equal to 6? If so, calculate the value of $y$ that makes the mean equal to 6. If not, clearly explain why not.\n",
    "    \n",
    "Is there a value for $y$ that would make the median of the data equal to 6? If so, calculate the values of $y$ that makes the median equal to 6. If not, clearly explain why not."
   ]
  },
  {
   "cell_type": "code",
   "execution_count": 3,
   "metadata": {},
   "outputs": [
    {
     "name": "stdout",
     "output_type": "stream",
     "text": [
      "If you change y to 18.2 then you get a mean of 6.0  which is 6 so it is possible.\n",
      "Found by changing y and calculating the mean until the mean came out to be 6.\n"
     ]
    }
   ],
   "source": [
    "prob2 = np.array([4.3, 5.2, 5.0, 3.8, 4.1, 5.5, 1.9, 18.2])\n",
    "print(\"If you change y to\", 18.2, \"then you get a mean of\", prob2.mean(), \" which is 6 so it is possible.\")\n",
    "print(\"Found by changing y and calculating the mean until the mean came out to be 6.\")"
   ]
  },
  {
   "cell_type": "markdown",
   "metadata": {},
   "source": [
    "**Part B Solution**<br>\n",
    "In order to get a median of 6 you would have to put a 6 in the center of the data which is not possible to do with only one number."
   ]
  },
  {
   "cell_type": "markdown",
   "metadata": {},
   "source": [
    "**Part C**: Compute the sample variance and the sample standard deviation for the original dataset given in part A, with $y=6$."
   ]
  },
  {
   "cell_type": "code",
   "execution_count": 4,
   "metadata": {},
   "outputs": [
    {
     "name": "stdout",
     "output_type": "stream",
     "text": [
      "The sample variance is:  1.633571428571429\n",
      "The standard deviation is:  1.2781124475457661\n"
     ]
    }
   ],
   "source": [
    "#to compute the sample variance you sum up the difference between each data point and the average squared,\n",
    "#then divide by the number of elements squared\n",
    "#this is the data set\n",
    "prob2 = np.array([4.3, 5.2, 5.0, 6.0, 3.8, 4.1, 5.5, 1.9])\n",
    "#first compute the mean\n",
    "mean = prob2.mean()\n",
    "#then create a sum of the difference between the mean and each data point squared using a for loop\n",
    "total = 0\n",
    "for i in prob2:\n",
    "    total += (i-mean)**2\n",
    "#finally divide by the number of elements minus 1\n",
    "total /= 7\n",
    "print(\"The sample variance is: \", total)\n",
    "#now to get the standard deviation, you take the square root of the sample variance\n",
    "total = total**(1/2)\n",
    "print(\"The standard deviation is: \", total)\n",
    "#checking work, using the built in function which divides by n not n-1 so slightly off but can still be used by *8/7 which divides by n-1 instead of n\n",
    "#print(prob2.var()*8/7)"
   ]
  },
  {
   "cell_type": "markdown",
   "metadata": {},
   "source": [
    "**Part D**: Compute the sample median for the following cases: \n",
    "- $y=5$ \n",
    "- $y=50$ \n",
    "- $y=4.36$ \n",
    "- $y \\to \\infty$ \n",
    "- $y \\to -\\infty$"
   ]
  },
  {
   "cell_type": "markdown",
   "metadata": {},
   "source": [
    "**Pard D Solution**<br>\n",
    "The data set is [4.3, 5.2, 5.0, y, 3.8, 4.1, 5.5, 1.9] <br>\n",
    "To find the median you arrange the data in ascending order then take the middle value <br>\n",
    "y=5: [1.9, 3.8, 4.1, 4.3, 5.0, 5.0, 5.2, 5.5] median = 4.65 <br>\n",
    "y=50: [1.9, 3.8, 4.1, 4.3, 5.0, 5.2, 5.5, 50] median = 4.65 <br> \n",
    "y=4.36: [1.9, 3.8, 4.1, 4.3, 4.36, 5.0, 5.2, 5.5] median = 4.33 <br>\n",
    "$y \\to \\infty$: [1.9, 3.8, 4.1, 4.3, 5.0, 5.2, 5.5, $\\infty$] median = 4.65 <br>\n",
    "$y \\to -\\infty$: [$-\\infty$, 1.9, 3.8, 4.1, 4.3, 5.0, 5.2, 5.5] median = 4.2"
   ]
  },
  {
   "cell_type": "markdown",
   "metadata": {},
   "source": [
    "**Part E**: Think about the previous parts, above, and describe in words or mathematical notation the answers to the following two questions:\n",
    "\n",
    "- By varying $y$, what is the set of all the possible values that the sample mean could take on?\n",
    "- By varying $y$, what is the set of all the possible values that the sample median could take on? Specifically, for what sets of $y$ values does the median take on its different possible values?"
   ]
  },
  {
   "cell_type": "markdown",
   "metadata": {},
   "source": [
    "**Part E Solution**<br>\n",
    "By varying y you can achieve a sample mean from [$-\\infty$,$\\infty$]<br>\n",
    "From y = (-$\\infty$,4.1] the median = 4.2 <br>\n",
    "From y = [4.1, 5.0] you can get a median from [4.2, 4.65] depending on what you put <br>\n",
    "From y = [5.0, $\\infty$) the median = 4.65 <br>\n",
    "This is because y is outside of the median from certain intervals meaning it won't affect the median, and from [4.1, 5.0] y is inside the median range therefore it can affect the values but only within a certain range."
   ]
  },
  {
   "cell_type": "markdown",
   "metadata": {},
   "source": [
    "**Part F**: Describe in words or mathematical notation, what happens to the sample standard deviation when $y$ is varied in the following ways: \n",
    " \n",
    "- $y \\to \\infty$ \n",
    "- $y \\to \\bar{x}$\n"
   ]
  },
  {
   "cell_type": "markdown",
   "metadata": {},
   "source": [
    "**Part f Solution**<br>\n",
    "When $y\\to\\infty$ the sample standard deviation will go to $\\infty$ since the equation $\\frac{1}{n-1}\\sum_{k=1}^n \\left( x_k - \\bar{x}_n\\right)^2 = \\frac{1}{n-1}\\sum_{k=1}^n (-\\infty )^2 = \\infty$ <br>\n",
    "When y = $\\bar{x}$ it will mean that in the sum y's term will = 0, which will mean the standard deviation will comput to be as if y isn't there. Also since y is the mean it will not affect the mean when it is inserted or taken out. Therefore when y is the mean it has no affect on the standard deviation."
   ]
  },
  {
   "cell_type": "markdown",
   "metadata": {},
   "source": [
    "[Back to top](#top)\n",
    "<a/ id='p3'></a>\n",
    "\n",
    "## (20 pts) Problem 3 \n",
    "***\n",
    "\n",
    "Let $x_1, x_2, \\ldots, x_n$ be $n$ observations of a variable of interest.  Recall that the sample mean $\\bar{x}_n$ and sample variance $s^2_n$ are given by \n",
    "\n",
    "$$\n",
    "\\bar{x}_n = \\frac{1}{n}\\sum_{k=1}^n x_k \\quad \\textrm{and} \\quad s^2_n = \\frac{1}{n-1}\\sum_{k=1}^n \\left( x_k - \\bar{x}_n\\right)^2 \\qquad \\tag{Equation 1}\n",
    "$$\n",
    "\n",
    "where here the subscript $n$'s indicate the number of observations in the sample. Notice that a natural computation of the variance requires two passes over the data: one to compute the mean, and a second to subtract the mean from each observation and compute the sum of squares. It is often useful to be able to compute the variance in a single pass, inspecting each value $x_k$ only once; for example, when the data are being collected without enough storage to keep all the values, or when costs of memory access dominate those of computation. In this problem you will explore two methods for such an _online_ computation of the mean.  \n",
    "\n",
    "**Part A**: Show algebraically that the following relation holds between the mean of the first $n-1$ observations and the mean of all $n$ observations: \n",
    "\n",
    "$$\n",
    "\\bar{x}_n = \\bar{x}_{n-1} + \\frac{x_n - \\bar{x}_{n-1}}{n}\n",
    "$$\n",
    "\n",
    "Note that you can get an expression for $\\bar{x}_{n-1}$ by simply replacing $n$ in Equation 1 above with $n-1$."
   ]
  },
  {
   "cell_type": "markdown",
   "metadata": {},
   "source": [
    "$\\frac{1}{n}\\sum_{k=1}^{n}x_{k} = \\frac{1}{n-1}\\sum_{k=1}^{n-1}x_k+\\frac{x_n}{n}-(\\frac{1}{n})\\frac{1}{n-1}\\sum_{k=1}^{n-1}x_k$<br>\n",
    "$\\frac{1}{n}\\sum_{k=1}^{n-1}x_{k} + \\frac{x_n}{n} = \\frac{1}{n-1}\\sum_{k=1}^{n-1}x_k+\\frac{x_n}{n}-(\\frac{1}{n})\\frac{1}{n-1}\\sum_{k=1}^{n-1}x_k$<br>\n",
    "$\\sum_{k=1}^{n-1}x_{k} = \\frac{n}{n-1}\\sum_{k=1}^{n-1}x_k-\\frac{1}{n-1}\\sum_{k=1}^{n-1}x_k$<br>\n",
    "$\\sum_{k=1}^{n-1}x_{k} = \\frac{n-1}{n-1}\\sum_{k=1}^{n-1}x_k$<br>\n",
    "$\\sum_{k=1}^{n-1}x_{k} = \\sum_{k=1}^{n-1}x_k$ therefore the relation holds <br>"
   ]
  },
  {
   "cell_type": "markdown",
   "metadata": {},
   "source": [
    "**Part B**: Write a function `my_sample_mean` that takes as its input a numpy array and returns the mean of that numpy array using the formulas from class (written above). Write another function `my_sample_var` that takes as its input a numpy array and returns the variance of that numpy array, again using the formulas from class (written above). You may **not** use any built-in sample mean or variance functions."
   ]
  },
  {
   "cell_type": "code",
   "execution_count": 5,
   "metadata": {},
   "outputs": [],
   "source": [
    "def my_sample_mean(data):\n",
    "    mean = data.sum()\n",
    "    mean /= len(data)\n",
    "    return mean\n",
    "\n",
    "def my_sample_var(data):\n",
    "    variance = 0\n",
    "    mean = my_sample_mean(data)\n",
    "    for i in data:\n",
    "        variance += (i-mean)**2\n",
    "    variance /= len(data)-1\n",
    "    return variance\n",
    "    "
   ]
  },
  {
   "cell_type": "markdown",
   "metadata": {},
   "source": [
    "The code above just makes the functions specified in part B"
   ]
  },
  {
   "cell_type": "markdown",
   "metadata": {},
   "source": [
    "**Part C**: Use your functions from Part B to compute the sample mean and sample variance of the following array, which contains the plankton consumed by a sample of 12 seahorses.\n",
    "\n",
    "`pla = [98, 26, 83, 56, 60, 39, 81, 19, 72, 78, 94, 42]`"
   ]
  },
  {
   "cell_type": "code",
   "execution_count": 6,
   "metadata": {},
   "outputs": [
    {
     "name": "stdout",
     "output_type": "stream",
     "text": [
      "The mean my function got is: 62.333333333333336\n",
      "The variance my function got is: 690.060606060606\n"
     ]
    }
   ],
   "source": [
    "pla = np.array([98, 26, 83, 56, 60, 39, 81, 19, 72, 78, 94, 42])\n",
    "print(\"The mean my function got is:\", my_sample_mean(pla))\n",
    "print(\"The variance my function got is:\", my_sample_var(pla))\n",
    "#testing\n",
    "#print(pla.mean())\n",
    "#print(pla.var()*(len(pla)/(len(pla)-1)))"
   ]
  },
  {
   "cell_type": "markdown",
   "metadata": {},
   "source": [
    "**Part D**: Implement a third function called `update_mean` that implements the formula whose validity you proved in Part A. Note that this function will need to take as its input three things: $x_n$, $\\bar{x}_{n-1}$ and $n$. A function header is provided for you. This function may be auto-graded, so please do not change the given API - the order of inputs matters! If you change it, you might lose points.\n",
    "\n",
    "Use this function to compute the values that you get from taking the mean of the first seahorse's plankton, the first two seahorses, the first three seahorses, and so on up to all of the seahorse data points. Store your plankton means in a numpy array called `pla_means`.  Report all 12 estimates in `pla_means`."
   ]
  },
  {
   "cell_type": "code",
   "execution_count": 7,
   "metadata": {},
   "outputs": [],
   "source": [
    "# Given API:\n",
    "def update_mean(prev_mean, xn, n):\n",
    "    new_mean = prev_mean + ((xn-prev_mean)/n)\n",
    "    return new_mean"
   ]
  },
  {
   "cell_type": "markdown",
   "metadata": {},
   "source": [
    "This function just uses the formula proved in Part A to update the mean whenever a new value is added."
   ]
  },
  {
   "cell_type": "markdown",
   "metadata": {},
   "source": [
    "To ensure your function complies with the given API, run this small test, where we suppose we have a mean of $\\bar{x}_n = 1$ with the first $2$ data points (`prev_mean`), and we update this with the 3rd ($n=3$) data point which is $x_3=2$:"
   ]
  },
  {
   "cell_type": "code",
   "execution_count": 8,
   "metadata": {},
   "outputs": [],
   "source": [
    "assert update_mean(1,2,3)==4/3, \"Warning: function seems broken.\""
   ]
  },
  {
   "cell_type": "code",
   "execution_count": 9,
   "metadata": {},
   "outputs": [
    {
     "name": "stdout",
     "output_type": "stream",
     "text": [
      "[98 62 69 65 64 59 62 56 57 59 62 60]\n"
     ]
    }
   ],
   "source": [
    "pla_means = np.array([98, 0, 0, 0, 0, 0, 0, 0, 0, 0, 0, 0])\n",
    "i = 1\n",
    "while i <= 11:\n",
    "    pla_means[i] = update_mean(pla_means[i-1], pla[i], i+1)\n",
    "    i += 1\n",
    "\n",
    "print(pla_means)"
   ]
  },
  {
   "cell_type": "markdown",
   "metadata": {},
   "source": [
    "The code above uses a while loop to go through pla and calls update mean with each new value. It then prints the results by calling the print function on pla_means which is where the data was stored at each iteration of the while."
   ]
  },
  {
   "cell_type": "markdown",
   "metadata": {},
   "source": [
    "[Back to top](#top)\n",
    "\n",
    "<a/ id='p4'></a>\n",
    "\n",
    "## (25 pts) Problem 4\n",
    "*** \n",
    "Some claim that the final hours aboard the RMS Titanic were marked by \"class warfare\" in which the people with first-class tickets took all the good spots on the lifeboats; others claim that the final hours were characterized by male chivalry, in which the men valiantly gave up their positions in the boats and succumbed bravely to the depths of the Atlantic. \n",
    "\n",
    "We have the data on survival rates by class and by sex, so let's figure out whether there is evidence for these scenarios. Access the Titanic data in `titanic_data.csv` and store it in a Pandas DataFrame. The data contains information pertaining to class status (**Pclass**), survival (**Survived**), and gender (**Sex**) of passengers, among other things. Be sure to use the `titanic_data.csv` data set, *not* the `clean_titanic_data` file from the in-class notebook."
   ]
  },
  {
   "cell_type": "code",
   "execution_count": 10,
   "metadata": {},
   "outputs": [
    {
     "data": {
      "text/html": [
       "<div>\n",
       "<style scoped>\n",
       "    .dataframe tbody tr th:only-of-type {\n",
       "        vertical-align: middle;\n",
       "    }\n",
       "\n",
       "    .dataframe tbody tr th {\n",
       "        vertical-align: top;\n",
       "    }\n",
       "\n",
       "    .dataframe thead th {\n",
       "        text-align: right;\n",
       "    }\n",
       "</style>\n",
       "<table border=\"1\" class=\"dataframe\">\n",
       "  <thead>\n",
       "    <tr style=\"text-align: right;\">\n",
       "      <th></th>\n",
       "      <th>PassengerId</th>\n",
       "      <th>Survived</th>\n",
       "      <th>Pclass</th>\n",
       "      <th>Name</th>\n",
       "      <th>Sex</th>\n",
       "      <th>Age</th>\n",
       "      <th>SibSp</th>\n",
       "      <th>Parch</th>\n",
       "      <th>Ticket</th>\n",
       "      <th>Fare</th>\n",
       "      <th>Cabin</th>\n",
       "      <th>Embarked</th>\n",
       "    </tr>\n",
       "  </thead>\n",
       "  <tbody>\n",
       "    <tr>\n",
       "      <th>0</th>\n",
       "      <td>1</td>\n",
       "      <td>0</td>\n",
       "      <td>3</td>\n",
       "      <td>Braund, Mr. Owen Harris</td>\n",
       "      <td>male</td>\n",
       "      <td>36.0</td>\n",
       "      <td>1</td>\n",
       "      <td>0</td>\n",
       "      <td>A/5 21171</td>\n",
       "      <td>7.2500</td>\n",
       "      <td>NaN</td>\n",
       "      <td>S</td>\n",
       "    </tr>\n",
       "    <tr>\n",
       "      <th>1</th>\n",
       "      <td>2</td>\n",
       "      <td>1</td>\n",
       "      <td>1</td>\n",
       "      <td>Cumings, Mrs. John Bradley (Florence Briggs Th...</td>\n",
       "      <td>female</td>\n",
       "      <td>18.0</td>\n",
       "      <td>1</td>\n",
       "      <td>0</td>\n",
       "      <td>PC 17599</td>\n",
       "      <td>71.2833</td>\n",
       "      <td>C85</td>\n",
       "      <td>C</td>\n",
       "    </tr>\n",
       "    <tr>\n",
       "      <th>2</th>\n",
       "      <td>3</td>\n",
       "      <td>1</td>\n",
       "      <td>3</td>\n",
       "      <td>Heikkinen, Miss. Laina</td>\n",
       "      <td>female</td>\n",
       "      <td>14.0</td>\n",
       "      <td>0</td>\n",
       "      <td>0</td>\n",
       "      <td>STON/O2. 3101282</td>\n",
       "      <td>7.9250</td>\n",
       "      <td>NaN</td>\n",
       "      <td>S</td>\n",
       "    </tr>\n",
       "    <tr>\n",
       "      <th>3</th>\n",
       "      <td>4</td>\n",
       "      <td>1</td>\n",
       "      <td>1</td>\n",
       "      <td>Futrelle, Mrs. Jacques Heath (Lily May Peel)</td>\n",
       "      <td>female</td>\n",
       "      <td>27.0</td>\n",
       "      <td>1</td>\n",
       "      <td>0</td>\n",
       "      <td>113803</td>\n",
       "      <td>53.1000</td>\n",
       "      <td>C123</td>\n",
       "      <td>S</td>\n",
       "    </tr>\n",
       "    <tr>\n",
       "      <th>4</th>\n",
       "      <td>5</td>\n",
       "      <td>0</td>\n",
       "      <td>3</td>\n",
       "      <td>Allen, Mr. William Henry</td>\n",
       "      <td>male</td>\n",
       "      <td>63.0</td>\n",
       "      <td>0</td>\n",
       "      <td>0</td>\n",
       "      <td>373450</td>\n",
       "      <td>8.0500</td>\n",
       "      <td>NaN</td>\n",
       "      <td>S</td>\n",
       "    </tr>\n",
       "  </tbody>\n",
       "</table>\n",
       "</div>"
      ],
      "text/plain": [
       "   PassengerId  Survived  Pclass  \\\n",
       "0            1         0       3   \n",
       "1            2         1       1   \n",
       "2            3         1       3   \n",
       "3            4         1       1   \n",
       "4            5         0       3   \n",
       "\n",
       "                                                Name     Sex   Age  SibSp  \\\n",
       "0                            Braund, Mr. Owen Harris    male  36.0      1   \n",
       "1  Cumings, Mrs. John Bradley (Florence Briggs Th...  female  18.0      1   \n",
       "2                             Heikkinen, Miss. Laina  female  14.0      0   \n",
       "3       Futrelle, Mrs. Jacques Heath (Lily May Peel)  female  27.0      1   \n",
       "4                           Allen, Mr. William Henry    male  63.0      0   \n",
       "\n",
       "   Parch            Ticket     Fare Cabin Embarked  \n",
       "0      0         A/5 21171   7.2500   NaN        S  \n",
       "1      0          PC 17599  71.2833   C85        C  \n",
       "2      0  STON/O2. 3101282   7.9250   NaN        S  \n",
       "3      0            113803  53.1000  C123        S  \n",
       "4      0            373450   8.0500   NaN        S  "
      ]
     },
     "execution_count": 10,
     "metadata": {},
     "output_type": "execute_result"
    }
   ],
   "source": [
    "df = pd.read_csv(\"titanic_data.csv\")\n",
    "df.head()"
   ]
  },
  {
   "cell_type": "markdown",
   "metadata": {},
   "source": [
    "**Part A**: Consider the two claims: class warfare, and male chivalry. Suppose that class warfare occurred in the final hours aboard the Titanic.  What patterns might you expect to see in the data?  Suppose that male chivalry was widespread during the final hours instead. What patterns might you then expect to see in the data?  Explain both of these hypothesized patterns in words. Are these two hypotheses mutually exclusive or not?"
   ]
  },
  {
   "cell_type": "markdown",
   "metadata": {},
   "source": [
    "**Part A Solution**<br>\n",
    "If there was class warfare than you would expect a higher percentage of first class people to survive. If there was chivalry then a higher percentage of females would survive. If there was both which is possible then woman in first class would have the highest survival rate. The events are not mutually exclusive because some first class passengers are male and some woman are  not first class. "
   ]
  },
  {
   "cell_type": "markdown",
   "metadata": {},
   "source": [
    "**Part B**: Use Pandas (see: `dropna`) methods to create a clean data set by removing any rows from the DataFrame that are missing values corresponding to **Survived**, **Pclass**, **Age**, or **Sex**. Store the clean data in a DataFrame called dfTitanic. Be sure to show any exploratory work determining if/where there are rows with missing values."
   ]
  },
  {
   "cell_type": "code",
   "execution_count": 11,
   "metadata": {},
   "outputs": [
    {
     "data": {
      "text/html": [
       "<div>\n",
       "<style scoped>\n",
       "    .dataframe tbody tr th:only-of-type {\n",
       "        vertical-align: middle;\n",
       "    }\n",
       "\n",
       "    .dataframe tbody tr th {\n",
       "        vertical-align: top;\n",
       "    }\n",
       "\n",
       "    .dataframe thead th {\n",
       "        text-align: right;\n",
       "    }\n",
       "</style>\n",
       "<table border=\"1\" class=\"dataframe\">\n",
       "  <thead>\n",
       "    <tr style=\"text-align: right;\">\n",
       "      <th></th>\n",
       "      <th>PassengerId</th>\n",
       "      <th>Survived</th>\n",
       "      <th>Pclass</th>\n",
       "      <th>Name</th>\n",
       "      <th>Sex</th>\n",
       "      <th>Age</th>\n",
       "      <th>SibSp</th>\n",
       "      <th>Parch</th>\n",
       "      <th>Ticket</th>\n",
       "      <th>Fare</th>\n",
       "      <th>Cabin</th>\n",
       "      <th>Embarked</th>\n",
       "    </tr>\n",
       "  </thead>\n",
       "  <tbody>\n",
       "    <tr>\n",
       "      <th>0</th>\n",
       "      <td>1</td>\n",
       "      <td>0</td>\n",
       "      <td>3</td>\n",
       "      <td>Braund, Mr. Owen Harris</td>\n",
       "      <td>male</td>\n",
       "      <td>36.0</td>\n",
       "      <td>1</td>\n",
       "      <td>0</td>\n",
       "      <td>A/5 21171</td>\n",
       "      <td>7.2500</td>\n",
       "      <td>NaN</td>\n",
       "      <td>S</td>\n",
       "    </tr>\n",
       "    <tr>\n",
       "      <th>1</th>\n",
       "      <td>2</td>\n",
       "      <td>1</td>\n",
       "      <td>1</td>\n",
       "      <td>Cumings, Mrs. John Bradley (Florence Briggs Th...</td>\n",
       "      <td>female</td>\n",
       "      <td>18.0</td>\n",
       "      <td>1</td>\n",
       "      <td>0</td>\n",
       "      <td>PC 17599</td>\n",
       "      <td>71.2833</td>\n",
       "      <td>C85</td>\n",
       "      <td>C</td>\n",
       "    </tr>\n",
       "    <tr>\n",
       "      <th>2</th>\n",
       "      <td>3</td>\n",
       "      <td>1</td>\n",
       "      <td>3</td>\n",
       "      <td>Heikkinen, Miss. Laina</td>\n",
       "      <td>female</td>\n",
       "      <td>14.0</td>\n",
       "      <td>0</td>\n",
       "      <td>0</td>\n",
       "      <td>STON/O2. 3101282</td>\n",
       "      <td>7.9250</td>\n",
       "      <td>NaN</td>\n",
       "      <td>S</td>\n",
       "    </tr>\n",
       "    <tr>\n",
       "      <th>3</th>\n",
       "      <td>4</td>\n",
       "      <td>1</td>\n",
       "      <td>1</td>\n",
       "      <td>Futrelle, Mrs. Jacques Heath (Lily May Peel)</td>\n",
       "      <td>female</td>\n",
       "      <td>27.0</td>\n",
       "      <td>1</td>\n",
       "      <td>0</td>\n",
       "      <td>113803</td>\n",
       "      <td>53.1000</td>\n",
       "      <td>C123</td>\n",
       "      <td>S</td>\n",
       "    </tr>\n",
       "    <tr>\n",
       "      <th>4</th>\n",
       "      <td>5</td>\n",
       "      <td>0</td>\n",
       "      <td>3</td>\n",
       "      <td>Allen, Mr. William Henry</td>\n",
       "      <td>male</td>\n",
       "      <td>63.0</td>\n",
       "      <td>0</td>\n",
       "      <td>0</td>\n",
       "      <td>373450</td>\n",
       "      <td>8.0500</td>\n",
       "      <td>NaN</td>\n",
       "      <td>S</td>\n",
       "    </tr>\n",
       "  </tbody>\n",
       "</table>\n",
       "</div>"
      ],
      "text/plain": [
       "   PassengerId  Survived  Pclass  \\\n",
       "0            1         0       3   \n",
       "1            2         1       1   \n",
       "2            3         1       3   \n",
       "3            4         1       1   \n",
       "4            5         0       3   \n",
       "\n",
       "                                                Name     Sex   Age  SibSp  \\\n",
       "0                            Braund, Mr. Owen Harris    male  36.0      1   \n",
       "1  Cumings, Mrs. John Bradley (Florence Briggs Th...  female  18.0      1   \n",
       "2                             Heikkinen, Miss. Laina  female  14.0      0   \n",
       "3       Futrelle, Mrs. Jacques Heath (Lily May Peel)  female  27.0      1   \n",
       "4                           Allen, Mr. William Henry    male  63.0      0   \n",
       "\n",
       "   Parch            Ticket     Fare Cabin Embarked  \n",
       "0      0         A/5 21171   7.2500   NaN        S  \n",
       "1      0          PC 17599  71.2833   C85        C  \n",
       "2      0  STON/O2. 3101282   7.9250   NaN        S  \n",
       "3      0            113803  53.1000  C123        S  \n",
       "4      0            373450   8.0500   NaN        S  "
      ]
     },
     "execution_count": 11,
     "metadata": {},
     "output_type": "execute_result"
    }
   ],
   "source": [
    "dfTitanic = df.dropna(subset=['Survived', 'Pclass', 'Age', 'Sex'])\n",
    "dfTitanic.head()\n",
    "#The dropna documentation says that this will drop rows where\n",
    "#there are missing values in those columns. The columns are named correctly\n",
    "#and the sentax is correct therefore this will drop all rows where\n",
    "#either the survived, pclass, age, or sex are missing from the data"
   ]
  },
  {
   "cell_type": "markdown",
   "metadata": {},
   "source": [
    "**Part C**: Compute the fraction of survivors according to class and gender. There are 3 passenger classes and 2 sexes in the data set, so you should report all 6 possible combinations.  Then, answer 3 questions:\n",
    "* **(i)** Within each passenger class, were men or women more/less/equally likely to survive?\n",
    "* **(ii)**  Looking at only the male or only the female passengers, how is passenger class related to the category's survival rate?\n",
    "* **(iii)**  Did men in first class or women in third class have a higher survival rate? "
   ]
  },
  {
   "cell_type": "code",
   "execution_count": 12,
   "metadata": {},
   "outputs": [
    {
     "name": "stdout",
     "output_type": "stream",
     "text": [
      "The male's in first class survival rate was: 0.3870967741935484\n",
      "The male's in second class survival rate was: 0.1839080459770115\n",
      "The male's in third class survival rate was: 0.13780918727915195\n",
      "The female's in first class survival rate was: 0.96\n",
      "The female's in second class survival rate was: 0.9310344827586207\n",
      "The female's in third class survival rate was: 0.5254237288135594\n"
     ]
    }
   ],
   "source": [
    "#Each of these are computed using df.loc to get the sex and class of the person\n",
    "#then suming up the survival, then dividing by how many people there are in\n",
    "#that category using df.loc again\n",
    "male_first = dfTitanic.loc[(dfTitanic[\"Sex\"] == \"male\") & (dfTitanic[\"Pclass\"] == 1), \"Survived\"].sum()/len(dfTitanic.loc[(dfTitanic[\"Sex\"] == \"male\") & (dfTitanic[\"Pclass\"] == 1)])\n",
    "print(\"The male's in first class survival rate was:\", male_first)\n",
    "male_sec = dfTitanic.loc[(dfTitanic[\"Sex\"] == \"male\") & (dfTitanic[\"Pclass\"] == 2), \"Survived\"].sum()/len(dfTitanic.loc[(dfTitanic[\"Sex\"] == \"male\") & (dfTitanic[\"Pclass\"] == 2)])\n",
    "print(\"The male's in second class survival rate was:\", male_sec)\n",
    "male_third = dfTitanic.loc[(dfTitanic[\"Sex\"] == \"male\") & (dfTitanic[\"Pclass\"] == 3), \"Survived\"].sum()/len(dfTitanic.loc[(dfTitanic[\"Sex\"] == \"male\") & (dfTitanic[\"Pclass\"] == 3)])\n",
    "print(\"The male's in third class survival rate was:\", male_third)\n",
    "female_first = dfTitanic.loc[(dfTitanic[\"Sex\"] == \"female\") & (dfTitanic[\"Pclass\"] == 1), \"Survived\"].sum()/len(dfTitanic.loc[(dfTitanic[\"Sex\"] == \"female\") & (dfTitanic[\"Pclass\"] == 1)])\n",
    "print(\"The female's in first class survival rate was:\", female_first)\n",
    "female_sec = dfTitanic.loc[(dfTitanic[\"Sex\"] == \"female\") & (dfTitanic[\"Pclass\"] == 2), \"Survived\"].sum()/len(dfTitanic.loc[(dfTitanic[\"Sex\"] == \"female\") & (dfTitanic[\"Pclass\"] == 2)])\n",
    "print(\"The female's in second class survival rate was:\", female_sec)\n",
    "female_third = dfTitanic.loc[(dfTitanic[\"Sex\"] == \"female\") & (dfTitanic[\"Pclass\"] == 3), \"Survived\"].sum()/len(dfTitanic.loc[(dfTitanic[\"Sex\"] == \"female\") & (dfTitanic[\"Pclass\"] == 3)])\n",
    "print(\"The female's in third class survival rate was:\", female_third)"
   ]
  },
  {
   "cell_type": "markdown",
   "metadata": {},
   "source": [
    "**Part C Solution**<br>\n",
    "(i) Within each passenger class the women were much more likely to survive, suggesting there was a lot of chivalry taking place <br>\n",
    "(ii) Those in first class had the highest survival rate while second class had a higher survival rate than third class, suggesting there was a class war <br>\n",
    "(iii) The women in third class had a higher survival rate than the men in first class which suggest that there was a very high degree of chivalry without respect for class <br>"
   ]
  },
  {
   "cell_type": "markdown",
   "metadata": {},
   "source": [
    "**Part D**: Plot a histogram of all of the passenger ages, using the bin edges $[0,5,10,\\ldots,70,75,80]$ defined by `my_bins` below. How would you characterize the distribution of **AGE**? (By _characterize_ we mean that you should indicate whether the data are unimodal, bimodal, multimodal, symmetric, negatively skewed, positively skewed, etc.)  Be sure to label your axes and use your figure to justify your conclusions."
   ]
  },
  {
   "cell_type": "code",
   "execution_count": 13,
   "metadata": {},
   "outputs": [],
   "source": [
    "my_bins = range(0,85,5)"
   ]
  },
  {
   "cell_type": "code",
   "execution_count": 14,
   "metadata": {},
   "outputs": [
    {
     "data": {
      "text/plain": [
       "Text(0, 0.5, 'Frequency')"
      ]
     },
     "execution_count": 14,
     "metadata": {},
     "output_type": "execute_result"
    },
    {
     "data": {
      "image/png": "[encoded data removed]",
      "text/plain": [
       "<Figure size 1224x360 with 1 Axes>"
      ]
     },
     "metadata": {
      "needs_background": "light"
     },
     "output_type": "display_data"
    }
   ],
   "source": [
    "fig, ax = plt.subplots(figsize=(17,5))\n",
    "dfTitanic.hist(column=\"Age\", ax=ax, bins=my_bins)\n",
    "ax.set_title(\"Number of People by Age\", fontsize=20)\n",
    "ax.set_xlabel(\"Age\", fontsize=12)\n",
    "ax.set_ylabel(\"Frequency\", fontsize=12)"
   ]
  },
  {
   "cell_type": "markdown",
   "metadata": {},
   "source": [
    "**Part D Solution** <br>\n",
    "The data appears to be bimodal but may be multimodal because of the slight increase in the bin 70 to 75. The largest amount of data on the graph is toward the left which is in the negative direction therefore the data is positively skewed. Especially considering how all values to the left have more than those to the far right."
   ]
  },
  {
   "cell_type": "markdown",
   "metadata": {},
   "source": [
    "**Part E**: One might wonder how a passenger's age is related to the likelihood that they would survive the Titanic disaster. To answer this question graphically, plot two density histograms on the same set of axes, showing the distribution of the ages of passengers who survived, and the distribution of the ages of passengers who did not. \n",
    "* Use the bin edges $[0,5,10,\\ldots,70,75,80]$ for both histograms.\n",
    "* This problem is about a *ship* sinking in the *ocean*, so use **coral** and **seagreen** as the facecolors for your histogram boxes.\n",
    "* Plot both histograms on a single set of axes (there should be only one panel in the figure you create), but use Matplotlib/Pandas plotting functionality to make the faces of the histogram boxes somewhat transparent, so both histograms are visible.\n",
    "* Include a legend and label your axes.\n",
    "* Comment on the results. Does your figure suggest that some age ranges are more or less likely to have survived the disaster than other ages? Fully explain your reasoning and use your figure to justify your conclusions.\n",
    "* If you noticed some relationship between age and likelihood of survival, what is one possible explanation?"
   ]
  },
  {
   "cell_type": "code",
   "execution_count": 15,
   "metadata": {},
   "outputs": [
    {
     "data": {
      "image/png": "[encoded data removed]",
      "text/plain": [
       "<Figure size 1080x720 with 1 Axes>"
      ]
     },
     "metadata": {
      "needs_background": "light"
     },
     "output_type": "display_data"
    }
   ],
   "source": [
    "survived_age = dfTitanic[(dfTitanic['Survived']==1) & (dfTitanic['Age'])]\n",
    "died_age = dfTitanic[(dfTitanic['Survived']==0) & (dfTitanic['Age'])]\n",
    "fig, ax = plt.subplots(figsize=(15,10))\n",
    "survived_age.hist(column=\"Age\", ax=ax, bins=my_bins, density = True, fc = \"seagreen\", alpha=0.5)\n",
    "died_age.hist(column=\"Age\", ax=ax, bins=my_bins, density = True, fc = \"coral\", alpha=0.5)\n",
    "ax.set_title(\"Age Survived and Died Density Histogram\", fontsize=20)\n",
    "ax.set_xlabel(\"Age\", fontsize = 12)\n",
    "ax.set_ylabel(\"Density\", fontsize=12)\n",
    "ax.legend([\"Survived\", \"Died\"], fontsize=12)\n",
    "plt.show()"
   ]
  },
  {
   "cell_type": "markdown",
   "metadata": {},
   "source": [
    "Infants and ages 30-40 seemed to have been more likely to die, while those from 15 to 30 were more likely to survive. The infants have a consistent death amount while those 15 to 30 have a huge spike in survivability especially when compared to other age's survivability. The age to likelihood of survival could have been due to being more physically able or even having the knowledge and awareness to respond. For example a 4 year old wouldn't know what to do and a feeble 60 year old would not be as fit and able to respond as someone in their 20's."
   ]
  },
  {
   "cell_type": "markdown",
   "metadata": {},
   "source": [
    "**Part F:** In Part E, we plotted two *density* histograms, showing the distributions of ages of passengers that survived or did not survive the Titanic disaster. Why would it be misleading for us to have plotted these as *frequency* histograms instead?"
   ]
  },
  {
   "cell_type": "markdown",
   "metadata": {},
   "source": [
    "**Part F Solution**<br>\n",
    "If there are a disproportionate amount of 30 year olds then if you did a frequency diagram of the amount survived it may look as if they were much more likely to survive. However since it is density it accounts for the disproportionate amount of 30 year olds and does not depend on the amount of 30 year olds but their percent survival rate which is what we want."
   ]
  },
  {
   "cell_type": "markdown",
   "metadata": {},
   "source": [
    "**Part G**: Do the data suggest class warfare, male chivalry, or some combination of both characteristics in the final hours aboard the Titanic?  Justify your conclusion based on the computations done above, or do any other analysis that you like, but be sure to clearly justify your conclusion. "
   ]
  },
  {
   "cell_type": "markdown",
   "metadata": {},
   "source": [
    "**Part G Solution**<br>\n",
    "From part C it seems that there was a clear division between classes and male and female. The most likely answer seems that there was class warfare and male chivalry since the largest amount of survivors were females in first class. It also appears that a large amount of people from 15 to 30 survived, probably just due to their ability to make it to the rafts. First classes survivability may be skewed though because only woman 15 to 30 would get first class, but this seems unlikely. Although infants were probably 3rd class they don't appear to have had a significant enough death rate to skew the data. "
   ]
  },
  {
   "cell_type": "markdown",
   "metadata": {},
   "source": [
    "[Back to top](#top)\n",
    "<a/ id='p5'></a>\n",
    "\n",
    "## (25 pts) Problem 5 (monthly patterns)\n",
    "***\n",
    "\n",
    "NOAA's Physical Sciences division (https://www.esrl.noaa.gov/psd) houses an enormous amount of weather data.  Load `hw1BoulderPPT.csv` from the course page for the last 100 years of monthly precipitation data from Boulder.\n",
    "\n",
    "#### a) When the amount of precipitation was nonzero but too small to be recorded, this data set recorded `tr`.  Replace these with zeroes."
   ]
  },
  {
   "cell_type": "code",
   "execution_count": 16,
   "metadata": {},
   "outputs": [
    {
     "data": {
      "text/html": [
       "<div>\n",
       "<style scoped>\n",
       "    .dataframe tbody tr th:only-of-type {\n",
       "        vertical-align: middle;\n",
       "    }\n",
       "\n",
       "    .dataframe tbody tr th {\n",
       "        vertical-align: top;\n",
       "    }\n",
       "\n",
       "    .dataframe thead th {\n",
       "        text-align: right;\n",
       "    }\n",
       "</style>\n",
       "<table border=\"1\" class=\"dataframe\">\n",
       "  <thead>\n",
       "    <tr style=\"text-align: right;\">\n",
       "      <th></th>\n",
       "      <th>Year</th>\n",
       "      <th>JAN</th>\n",
       "      <th>FEB</th>\n",
       "      <th>MAR</th>\n",
       "      <th>APR</th>\n",
       "      <th>MAY</th>\n",
       "      <th>JUN</th>\n",
       "      <th>JUL</th>\n",
       "      <th>AUG</th>\n",
       "      <th>SEP</th>\n",
       "      <th>OCT</th>\n",
       "      <th>NOV</th>\n",
       "      <th>DEC</th>\n",
       "      <th>YEAR TOTAL</th>\n",
       "    </tr>\n",
       "  </thead>\n",
       "  <tbody>\n",
       "    <tr>\n",
       "      <th>0</th>\n",
       "      <td>1919.0</td>\n",
       "      <td>0.00</td>\n",
       "      <td>0.32</td>\n",
       "      <td>1.49</td>\n",
       "      <td>1.65</td>\n",
       "      <td>0.88</td>\n",
       "      <td>1.10</td>\n",
       "      <td>7.46</td>\n",
       "      <td>0.95</td>\n",
       "      <td>0.88</td>\n",
       "      <td>1.31</td>\n",
       "      <td>2.07</td>\n",
       "      <td>0.50</td>\n",
       "      <td>18.61</td>\n",
       "    </tr>\n",
       "    <tr>\n",
       "      <th>1</th>\n",
       "      <td>1920.0</td>\n",
       "      <td>1.22</td>\n",
       "      <td>1.39</td>\n",
       "      <td>0.58</td>\n",
       "      <td>4.07</td>\n",
       "      <td>1.61</td>\n",
       "      <td>1.87</td>\n",
       "      <td>0.68</td>\n",
       "      <td>2.55</td>\n",
       "      <td>0.73</td>\n",
       "      <td>2.43</td>\n",
       "      <td>0.72</td>\n",
       "      <td>0.85</td>\n",
       "      <td>18.70</td>\n",
       "    </tr>\n",
       "    <tr>\n",
       "      <th>2</th>\n",
       "      <td>1921.0</td>\n",
       "      <td>0.11</td>\n",
       "      <td>0.31</td>\n",
       "      <td>0.77</td>\n",
       "      <td>4.81</td>\n",
       "      <td>1.50</td>\n",
       "      <td>3.62</td>\n",
       "      <td>1.53</td>\n",
       "      <td>2.00</td>\n",
       "      <td>0.17</td>\n",
       "      <td>1.13</td>\n",
       "      <td>0.98</td>\n",
       "      <td>1.46</td>\n",
       "      <td>18.39</td>\n",
       "    </tr>\n",
       "    <tr>\n",
       "      <th>3</th>\n",
       "      <td>1922.0</td>\n",
       "      <td>0.63</td>\n",
       "      <td>0.59</td>\n",
       "      <td>0.81</td>\n",
       "      <td>3.32</td>\n",
       "      <td>1.02</td>\n",
       "      <td>0.62</td>\n",
       "      <td>1.04</td>\n",
       "      <td>1.50</td>\n",
       "      <td>0.00</td>\n",
       "      <td>1.13</td>\n",
       "      <td>2.58</td>\n",
       "      <td>0.56</td>\n",
       "      <td>13.80</td>\n",
       "    </tr>\n",
       "    <tr>\n",
       "      <th>4</th>\n",
       "      <td>1923.0</td>\n",
       "      <td>0.00</td>\n",
       "      <td>1.71</td>\n",
       "      <td>2.29</td>\n",
       "      <td>1.29</td>\n",
       "      <td>3.47</td>\n",
       "      <td>4.44</td>\n",
       "      <td>2.46</td>\n",
       "      <td>2.68</td>\n",
       "      <td>0.84</td>\n",
       "      <td>5.43</td>\n",
       "      <td>0.40</td>\n",
       "      <td>0.88</td>\n",
       "      <td>25.89</td>\n",
       "    </tr>\n",
       "  </tbody>\n",
       "</table>\n",
       "</div>"
      ],
      "text/plain": [
       "     Year   JAN   FEB   MAR   APR   MAY   JUN   JUL   AUG   SEP   OCT   NOV  \\\n",
       "0  1919.0  0.00  0.32  1.49  1.65  0.88  1.10  7.46  0.95  0.88  1.31  2.07   \n",
       "1  1920.0  1.22  1.39  0.58  4.07  1.61  1.87  0.68  2.55  0.73  2.43  0.72   \n",
       "2  1921.0  0.11  0.31  0.77  4.81  1.50  3.62  1.53  2.00  0.17  1.13  0.98   \n",
       "3  1922.0  0.63  0.59  0.81  3.32  1.02  0.62  1.04  1.50  0.00  1.13  2.58   \n",
       "4  1923.0  0.00  1.71  2.29  1.29  3.47  4.44  2.46  2.68  0.84  5.43  0.40   \n",
       "\n",
       "    DEC  YEAR TOTAL  \n",
       "0  0.50       18.61  \n",
       "1  0.85       18.70  \n",
       "2  1.46       18.39  \n",
       "3  0.56       13.80  \n",
       "4  0.88       25.89  "
      ]
     },
     "execution_count": 16,
     "metadata": {},
     "output_type": "execute_result"
    }
   ],
   "source": [
    "boulderWeather = pd.read_csv(\"hw1BoulderPPT.csv\")\n",
    "boulderWeather = boulderWeather.replace(\"Tr\", 0).astype('float64')\n",
    "boulderWeather.head()"
   ]
  },
  {
   "cell_type": "markdown",
   "metadata": {},
   "source": [
    "#### b) Generate a series of 12 box plots with month as the x axis and precipitation on the y-axis."
   ]
  },
  {
   "cell_type": "code",
   "execution_count": 17,
   "metadata": {},
   "outputs": [
    {
     "data": {
      "text/plain": [
       "Text(0, 0.5, 'Precipitation')"
      ]
     },
     "execution_count": 17,
     "metadata": {},
     "output_type": "execute_result"
    },
    {
     "data": {
      "image/png": "[encoded data removed]",
      "text/plain": [
       "<Figure size 1080x1440 with 1 Axes>"
      ]
     },
     "metadata": {
      "needs_background": "light"
     },
     "output_type": "display_data"
    }
   ],
   "source": [
    "fig, ax = plt.subplots(figsize=(15,20))\n",
    "boxPlot = boulderWeather.drop(columns=['Year', 'YEAR TOTAL'])\n",
    "boxPlot.boxplot(ax=ax)\n",
    "ax.set_title(\"Precipitation by Month\", fontsize=20)\n",
    "ax.set_xlabel(\"Month\", fontsize=12)\n",
    "ax.set_ylabel(\"Precipitation\", fontsize=12)"
   ]
  },
  {
   "cell_type": "markdown",
   "metadata": {},
   "source": [
    "\n",
    "#### c) Atmospheric scientists love to group months seasonally, breaking the year into a Winter season including December, January, February; a Spring included March, April, and May; and so forth. Generate a series of 4 box plots with season as the x axis and precipitation on the y-axis.  How does folding March-April-May into one variable change the mean and standard deviation compared to the data for just April?\n",
    "\n"
   ]
  },
  {
   "cell_type": "code",
   "execution_count": 18,
   "metadata": {},
   "outputs": [
    {
     "data": {
      "text/plain": [
       "Text(0, 0.5, 'Precipitation')"
      ]
     },
     "execution_count": 18,
     "metadata": {},
     "output_type": "execute_result"
    },
    {
     "data": {
      "image/png": "[encoded data removed]",
      "text/plain": [
       "<Figure size 1080x720 with 1 Axes>"
      ]
     },
     "metadata": {
      "needs_background": "light"
     },
     "output_type": "display_data"
    }
   ],
   "source": [
    "winter = boulderWeather[\"DEC\"].append(boulderWeather[\"JAN\"]).append(boulderWeather[\"FEB\"])\n",
    "spring = boulderWeather[\"MAR\"].append(boulderWeather[\"APR\"]).append(boulderWeather[\"MAY\"])\n",
    "summer = boulderWeather[\"JUN\"].append(boulderWeather[\"JUL\"]).append(boulderWeather[\"AUG\"])\n",
    "fall = boulderWeather[\"SEP\"].append(boulderWeather[\"OCT\"]).append(boulderWeather[\"NOV\"])\n",
    "seasons = {'WINTER':winter,\n",
    "          'SPRING':spring,\n",
    "          'SUMMER':summer,\n",
    "          'FALL':fall}\n",
    "seasonFrame = pd.DataFrame(seasons)\n",
    "fig, ax = plt.subplots(figsize=(15,10))\n",
    "seasonFrame.boxplot(ax=ax)\n",
    "ax.set_title(\"Precipitation by Season\", fontsize=20)\n",
    "ax.set_xlabel(\"Seasons\", fontsize=12)\n",
    "ax.set_ylabel(\"Precipitation\", fontsize=12)"
   ]
  },
  {
   "cell_type": "markdown",
   "metadata": {},
   "source": [
    "By folding March April and May together April's mean will be affected by the values of March and May and the standard deviation will probably increase since March and May will have different temperature's than April. However it could also be largely unaffected since April is between March and May. March would be cooler but May warmer and they cancel out so April is still about the same."
   ]
  },
  {
   "cell_type": "markdown",
   "metadata": {},
   "source": [
    "#### d) Create a density histogram of the September precipitation.  Classify and describe this histogram.  Find the data point associated with September, 2013, and recreate your histogram with that value in a different color or otherwise clearly marked."
   ]
  },
  {
   "cell_type": "code",
   "execution_count": 19,
   "metadata": {},
   "outputs": [
    {
     "data": {
      "text/plain": [
       "Text(0, 0.5, 'Precipitation')"
      ]
     },
     "execution_count": 19,
     "metadata": {},
     "output_type": "execute_result"
    },
    {
     "data": {
      "image/png": "[encoded data removed]",
      "text/plain": [
       "<Figure size 1080x720 with 1 Axes>"
      ]
     },
     "metadata": {
      "needs_background": "light"
     },
     "output_type": "display_data"
    }
   ],
   "source": [
    "fig, ax = plt.subplots(figsize=(15,10))\n",
    "my_bins = range(0,20,1)\n",
    "boulderWeather.hist(column=\"SEP\", ax=ax, bins=my_bins)\n",
    "ax.set_title(\"Precipitation in September\", fontsize=20)\n",
    "ax.set_xlabel(\"Year\", fontsize = 12)\n",
    "ax.set_ylabel(\"Precipitation\", fontsize=12)"
   ]
  },
  {
   "cell_type": "code",
   "execution_count": 20,
   "metadata": {},
   "outputs": [
    {
     "data": {
      "image/png": "[encoded data removed]",
      "text/plain": [
       "<Figure size 1080x720 with 1 Axes>"
      ]
     },
     "metadata": {
      "needs_background": "light"
     },
     "output_type": "display_data"
    }
   ],
   "source": [
    "fig, ax = plt.subplots(figsize=(15,10))\n",
    "september = boulderWeather[\"SEP\"]\n",
    "_, _1, histo = plt.hist(september, fc=\"cyan\", bins=my_bins)\n",
    "histo[18].set_fc('r')\n",
    "ax.set_title(\"Precipitation in September\", fontsize=20)\n",
    "ax.set_xlabel(\"Year\", fontsize = 12)\n",
    "ax.set_ylabel(\"Precipitation\", fontsize=12)\n",
    "plt.show()"
   ]
  },
  {
   "cell_type": "markdown",
   "metadata": {},
   "source": [
    "The data is bimodal right skewed. There is a really strange outlier that is way off from the rest of the data."
   ]
  },
  {
   "cell_type": "markdown",
   "metadata": {},
   "source": [
    "#### e) Calculute the mean and standard deviation of the September precipitation in this set.  Create a Tukey 5 number summary of the September precipitation.  What are a couple of advantages and disadvantages of these numerical summaries compared to each other on this subset of the data?  Why?"
   ]
  },
  {
   "cell_type": "code",
   "execution_count": 21,
   "metadata": {},
   "outputs": [
    {
     "name": "stdout",
     "output_type": "stream",
     "text": [
      "The mean is: 1.6581999999999997\n",
      "The standard deviation is: 2.090502349280869\n",
      "The 5 Tukey number summary\n",
      "Min: 0.0\n",
      "Max: 18.16\n",
      "Q1: 0.5625\n",
      "Q2: 1.17\n",
      "Q3: 2.225\n"
     ]
    }
   ],
   "source": [
    "print(\"The mean is:\", september.mean())\n",
    "print(\"The standard deviation is:\", september.std()*len(september)/(len(september)-1))\n",
    "print(\"The 5 Tukey number summary\")\n",
    "print(\"Min:\", september.min())\n",
    "print(\"Max:\", september.max())\n",
    "print(\"Q1:\", september.quantile(0.25))\n",
    "print(\"Q2:\", september.quantile(0.5))\n",
    "print(\"Q3:\", september.quantile(0.75))"
   ]
  },
  {
   "cell_type": "markdown",
   "metadata": {},
   "source": [
    "**Mean and Standard Deviation**\n",
    "\n",
    "| Advantages | Disadvantages |\n",
    "| --- | --- |\n",
    "| Everything weighted equally | Doesn't account for outliers |\n",
    "| Uses all the data | 2D |\n",
    "\n",
    "It is an advantage that everything is weighted equally because that means none of the data is left out and you get an idea of what happened. It is an advantage that it uses all the data because you don't lose any information. It is a problem however that it doesn't account for outliers for outliers greatly skew the data.\n",
    "\n",
    "**Tukey 5-Number**\n",
    "\n",
    "| Advantages | Disadvantages |\n",
    "| --- | --- |\n",
    "| Robust to outliers | Doesn't use all the data |\n",
    "| Gives the spread of the data (skewness) | 2D |\n",
    "\n",
    "Outliers don't affect the data so you get a good representation of the data. It is a disadvantage that you don't use all the data however for you can't see what exactly happened. It also gives the spread of the data which allows you to see what area have the most values and how the data is skewed."
   ]
  },
  {
   "cell_type": "markdown",
   "metadata": {},
   "source": [
    "[Back to top](#top)\n",
    "<a/ id='p6'></a>\n",
    "\n",
    "## (25 pts) Problem 6\n",
    "***\n",
    "In problem 3, we generated an interesting theoretical result and then verified how it worked on a given data set.  Sometimes it's easier to just see what happens on a variety of data than manipulate sums directly!  Consider the following 3 data sets:\n",
    "\n",
    "`A=[0,1,2,3,4,5,6,7,8,9]`\n",
    "\n",
    "`B=[0,0,0,12,7,18,47,25,0,13]`\n",
    "\n",
    "`C` is the random data set generated by using `np.random.randint(0,1000, size=100)`\n",
    "\n",
    "For each data set, perform the following computations:\n",
    "#### a) Compute and print the mean and standard deviation of the data set.\n"
   ]
  },
  {
   "cell_type": "code",
   "execution_count": 22,
   "metadata": {},
   "outputs": [
    {
     "name": "stdout",
     "output_type": "stream",
     "text": [
      "The mean of A is:  4.5\n",
      "The standard deviation of A is:  3.191423692521127\n",
      "The mean of B is:  12.2\n",
      "The standard deviation of B is:  15.837134046752738\n",
      "The mean of C is:  508.19\n",
      "The standard deviation of C is:  307.3062193277357\n"
     ]
    }
   ],
   "source": [
    "A = np.array([0,1,2,3,4,5,6,7,8,9])\n",
    "B = np.array([0,0,0,12,7,18,47,25,0,13])\n",
    "C = np.random.randint(0,1000, size=100)\n",
    "print(\"The mean of A is: \", A.mean())\n",
    "print(\"The standard deviation of A is: \", A.std()*len(A)/(len(A)-1))\n",
    "print(\"The mean of B is: \", B.mean())\n",
    "print(\"The standard deviation of B is: \", B.std()*len(B)/(len(B)-1))\n",
    "print(\"The mean of C is: \", C.mean())\n",
    "print(\"The standard deviation of C is: \", C.std()*len(C)/(len(C)-1))"
   ]
  },
  {
   "cell_type": "markdown",
   "metadata": {},
   "source": [
    "This code just creates the data sets and then uses the built in methods to compute the mean and standard deviation (standard deviation error fixed by multiplying by the size then dividing by the size - 1 to undo their wrong and do it correctly)."
   ]
  },
  {
   "cell_type": "markdown",
   "metadata": {},
   "source": [
    "\n",
    "#### b) Compute and print  the mean and standard deviation of the new data set formed by subtracting the original mean from each observation.\n"
   ]
  },
  {
   "cell_type": "code",
   "execution_count": 23,
   "metadata": {},
   "outputs": [
    {
     "name": "stdout",
     "output_type": "stream",
     "text": [
      "The new mean of A is:  0.0\n",
      "The new standard deviation of A is:  3.191423692521127\n",
      "The new mean of B is:  0.0\n",
      "The new standard deviation of B is:  15.837134046752738\n",
      "The new mean of C is:  -0.0\n",
      "The new standard deviation of C is:  338.0368412605093\n"
     ]
    }
   ],
   "source": [
    "A2 = np.empty(len(A))\n",
    "B2 = np.empty(len(B))\n",
    "C2 = np.empty(len(C))\n",
    "i = 0\n",
    "while i < len(A):\n",
    "    A2[i] = A[i]-A.mean()\n",
    "    i += 1\n",
    "i = 0\n",
    "while i < len(B):\n",
    "    B2[i] = B[i]-B.mean()\n",
    "    i += 1\n",
    "i = 0\n",
    "while i < len(C):\n",
    "    C2[i] = C[i]-C.mean()\n",
    "    i += 1\n",
    "print(\"The new mean of A is: \", A2.mean())\n",
    "print(\"The new standard deviation of A is: \", A2.std()*len(A)/(len(A)-1))\n",
    "print(\"The new mean of B is: \", B2.mean())\n",
    "print(\"The new standard deviation of B is: \", B2.std()*len(B)/(len(B)-1))\n",
    "print(\"The new mean of C is: \", round(C2.mean()))\n",
    "print(\"The new standard deviation of C is: \", C2.std()*len(B)/(len(B)-1))"
   ]
  },
  {
   "cell_type": "markdown",
   "metadata": {},
   "source": [
    "This code creates new data sets by subtracting the mean of each original data set from each index. Then it uses the built in functions to take the mean and standard deviation of the new data sets (standard deviation error fixed by multiplying by the size then dividing by the size - 1 to undo their wrong and do it correctly)."
   ]
  },
  {
   "cell_type": "markdown",
   "metadata": {},
   "source": [
    "\n",
    "#### c) Compute and print  the mean and standard deviation of the new data set formed by subtracting the original mean from each observation and then dividing by the original standard deviation.\n",
    "\n"
   ]
  },
  {
   "cell_type": "code",
   "execution_count": 24,
   "metadata": {},
   "outputs": [
    {
     "name": "stdout",
     "output_type": "stream",
     "text": [
      "The new mean of A is:  -0.0\n",
      "The new standard deviation of A is:  1.0\n",
      "The new mean of B is:  -0.0\n",
      "The new standard deviation of B is:  1.0\n",
      "The new mean of C is:  -0.0\n",
      "The new standard deviation of C is:  1.0\n"
     ]
    }
   ],
   "source": [
    "A3 = np.empty(len(A))\n",
    "B3 = np.empty(len(B))\n",
    "C3 = np.empty(len(C))\n",
    "i = 0\n",
    "while i < len(A):\n",
    "    A3[i] = A2[i]/A.std()\n",
    "    i += 1\n",
    "i = 0\n",
    "while i < len(B):\n",
    "    B3[i] = B2[i]/B.std()\n",
    "    i += 1\n",
    "i = 0\n",
    "while i < len(C):\n",
    "    C3[i] = C2[i]/C.std()\n",
    "    i += 1\n",
    "print(\"The new mean of A is: \", round(A3.mean()))\n",
    "print(\"The new standard deviation of A is: \", round(A3.std()*len(A)/(len(A)-1)))\n",
    "print(\"The new mean of B is: \", round(B3.mean()))\n",
    "print(\"The new standard deviation of B is: \", round(B3.std()*len(B)/(len(B)-1)))\n",
    "print(\"The new mean of C is: \", round(C2.mean()))\n",
    "print(\"The new standard deviation of C is: \", round(C3.std()*len(C)/(len(C)-1)))"
   ]
  },
  {
   "cell_type": "markdown",
   "metadata": {},
   "source": [
    "This code creates new data sets by subtracting the mean of each original data set from each index and dividing each index by the standard deviation. It then uses the built in functions to compute the mean and standard deviation of the new data sets. (Due to some minor floating point errors that are to be expected, rounding used)(standard deviation error fixed by multiplying by the size then dividing by the size - 1 to undo their wrong and do it correctly)"
   ]
  },
  {
   "cell_type": "markdown",
   "metadata": {},
   "source": [
    "#### d) Why might this result matter?"
   ]
  },
  {
   "cell_type": "markdown",
   "metadata": {},
   "source": [
    "This result matters because it shows ways in which you can manipulate the data in order to get a mean or standard deviation you want. It also shows how subtracting and adding doesn't affect the standard deviation but does affect the mean and multiplying and dividing doesn't affect the mean but does affect the standard deviation. This could also be used to isolate the mean or standard deviation."
   ]
  }
 ],
 "metadata": {
  "kernelspec": {
   "display_name": "Python 3",
   "language": "python",
   "name": "python3"
  },
  "language_info": {
   "codemirror_mode": {
    "name": "ipython",
    "version": 3
   },
   "file_extension": ".py",
   "mimetype": "text/x-python",
   "name": "python",
   "nbconvert_exporter": "python",
   "pygments_lexer": "ipython3",
   "version": "3.7.3"
  }
 },
 "nbformat": 4,
 "nbformat_minor": 2
}
